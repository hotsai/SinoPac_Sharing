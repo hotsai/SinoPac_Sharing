{
 "cells": [
  {
   "cell_type": "markdown",
   "id": "98db3dac",
   "metadata": {},
   "source": [
    "# Numpy"
   ]
  },
  {
   "cell_type": "markdown",
   "id": "735c9186",
   "metadata": {},
   "source": [
    "## 建立陣列及初始值"
   ]
  },
  {
   "cell_type": "markdown",
   "id": "80e2d4da",
   "metadata": {},
   "source": [
    "## 1. np.array"
   ]
  },
  {
   "cell_type": "code",
   "execution_count": 1,
   "id": "4b56182d",
   "metadata": {},
   "outputs": [],
   "source": [
    "import numpy as np\n",
    "a = np.array([1, 2, 3, 4])     #一維陣列建立\n",
    "b = np.array([(2.5, 1, 3, 4.5), (5, 6, 7, 8)])  #二維陣列建立\n",
    "c = np.array([[(2.5, 1, 3, 4.5), (5, 6, 7, 8)], [(2.5, 1, 3, 4.5), (5, 6, 7, 8)]])  #三維陣列建立"
   ]
  },
  {
   "cell_type": "code",
   "execution_count": 2,
   "id": "ed4437a7",
   "metadata": {},
   "outputs": [
    {
     "data": {
      "text/plain": [
       "array([1, 2, 3, 4])"
      ]
     },
     "execution_count": 2,
     "metadata": {},
     "output_type": "execute_result"
    }
   ],
   "source": [
    "a"
   ]
  },
  {
   "cell_type": "code",
   "execution_count": 3,
   "id": "6d986e28",
   "metadata": {},
   "outputs": [
    {
     "data": {
      "text/plain": [
       "array([[2.5, 1. , 3. , 4.5],\n",
       "       [5. , 6. , 7. , 8. ]])"
      ]
     },
     "execution_count": 3,
     "metadata": {},
     "output_type": "execute_result"
    }
   ],
   "source": [
    "b"
   ]
  },
  {
   "cell_type": "code",
   "execution_count": 4,
   "id": "caa683b9",
   "metadata": {},
   "outputs": [
    {
     "data": {
      "text/plain": [
       "array([[[2.5, 1. , 3. , 4.5],\n",
       "        [5. , 6. , 7. , 8. ]],\n",
       "\n",
       "       [[2.5, 1. , 3. , 4.5],\n",
       "        [5. , 6. , 7. , 8. ]]])"
      ]
     },
     "execution_count": 4,
     "metadata": {},
     "output_type": "execute_result"
    }
   ],
   "source": [
    "c"
   ]
  },
  {
   "cell_type": "markdown",
   "id": "c486aca5",
   "metadata": {},
   "source": [
    "## 2. np.arrange"
   ]
  },
  {
   "cell_type": "code",
   "execution_count": 5,
   "id": "dae0f333",
   "metadata": {},
   "outputs": [
    {
     "data": {
      "text/plain": [
       "array([0, 1, 2, 3, 4, 5, 6, 7, 8, 9])"
      ]
     },
     "execution_count": 5,
     "metadata": {},
     "output_type": "execute_result"
    }
   ],
   "source": [
    "np.arange(10) #生成一個一維陣列，元素從0~9"
   ]
  },
  {
   "cell_type": "code",
   "execution_count": 6,
   "id": "10952a2a",
   "metadata": {},
   "outputs": [
    {
     "data": {
      "text/plain": [
       "array([5, 6, 7, 8, 9])"
      ]
     },
     "execution_count": 6,
     "metadata": {},
     "output_type": "execute_result"
    }
   ],
   "source": [
    "np.arange(5, 10) #生成一個一維陣列，元素從5~9"
   ]
  },
  {
   "cell_type": "code",
   "execution_count": 7,
   "id": "4b2aff11",
   "metadata": {},
   "outputs": [
    {
     "data": {
      "text/plain": [
       "array([5, 7, 9])"
      ]
     },
     "execution_count": 7,
     "metadata": {},
     "output_type": "execute_result"
    }
   ],
   "source": [
    "np.arange(5, 11, 2) #生成一個一維陣列，元素為5, 7, 9"
   ]
  },
  {
   "cell_type": "markdown",
   "id": "a8c86647",
   "metadata": {},
   "source": [
    "## 3. np.zeros"
   ]
  },
  {
   "cell_type": "code",
   "execution_count": 8,
   "id": "ea1a3b0f",
   "metadata": {},
   "outputs": [
    {
     "data": {
      "text/plain": [
       "array([0., 0., 0., 0., 0.])"
      ]
     },
     "execution_count": 8,
     "metadata": {},
     "output_type": "execute_result"
    }
   ],
   "source": [
    "np.zeros(5)"
   ]
  },
  {
   "cell_type": "code",
   "execution_count": 9,
   "id": "7c8a6e40",
   "metadata": {},
   "outputs": [
    {
     "data": {
      "text/plain": [
       "array([[0., 0., 0., 0.],\n",
       "       [0., 0., 0., 0.],\n",
       "       [0., 0., 0., 0.]])"
      ]
     },
     "execution_count": 9,
     "metadata": {},
     "output_type": "execute_result"
    }
   ],
   "source": [
    "np.zeros((3, 4))"
   ]
  },
  {
   "cell_type": "markdown",
   "id": "fe80e126",
   "metadata": {},
   "source": [
    "## 4. np.random"
   ]
  },
  {
   "cell_type": "code",
   "execution_count": 10,
   "id": "c599d364",
   "metadata": {},
   "outputs": [
    {
     "data": {
      "text/plain": [
       "-1.3608782194279374"
      ]
     },
     "execution_count": 10,
     "metadata": {},
     "output_type": "execute_result"
    }
   ],
   "source": [
    "np.random.randn() #隨機得到一個數字，可能是負的或正的"
   ]
  },
  {
   "cell_type": "code",
   "execution_count": 11,
   "id": "8ebd59cf",
   "metadata": {},
   "outputs": [
    {
     "data": {
      "text/plain": [
       "array([0.270882  , 0.36363798, 0.40491836, 0.96467211, 0.39862599])"
      ]
     },
     "execution_count": 11,
     "metadata": {},
     "output_type": "execute_result"
    }
   ],
   "source": [
    "np.random.rand(5)"
   ]
  },
  {
   "cell_type": "code",
   "execution_count": 12,
   "id": "38e08fea",
   "metadata": {},
   "outputs": [
    {
     "data": {
      "text/plain": [
       "array([[-1.86376922,  0.26949922,  1.46625296, -1.19879636],\n",
       "       [ 1.31957591, -0.91261741, -1.07717116, -1.3632853 ]])"
      ]
     },
     "execution_count": 12,
     "metadata": {},
     "output_type": "execute_result"
    }
   ],
   "source": [
    "np.random.randn(2, 4) #產生一個由隨機陣列成的長度為 5 的一維隨機陣列"
   ]
  },
  {
   "cell_type": "code",
   "execution_count": 13,
   "id": "faea530b",
   "metadata": {},
   "outputs": [
    {
     "data": {
      "text/plain": [
       "array([1, 1, 0, 1, 2, 3, 3, 2, 2, 1])"
      ]
     },
     "execution_count": 13,
     "metadata": {},
     "output_type": "execute_result"
    }
   ],
   "source": [
    "np.random.randint(4, size=10) #產生<4的整數，大小為10的陣列"
   ]
  },
  {
   "cell_type": "code",
   "execution_count": 14,
   "id": "3d1f99b3",
   "metadata": {
    "scrolled": true
   },
   "outputs": [
    {
     "data": {
      "text/plain": [
       "array([8, 5, 9, 6, 6, 6, 4, 7, 6, 6])"
      ]
     },
     "execution_count": 14,
     "metadata": {},
     "output_type": "execute_result"
    }
   ],
   "source": [
    "np.random.randint(low=4,high=10,size=10) #產生大小為10，從4到小於10（9）的整數陣列"
   ]
  },
  {
   "cell_type": "markdown",
   "id": "1009dde2",
   "metadata": {},
   "source": [
    "## 5. 查看陣列資訊"
   ]
  },
  {
   "cell_type": "code",
   "execution_count": 15,
   "id": "3bac3b82",
   "metadata": {},
   "outputs": [],
   "source": [
    "a = np.array([1, 2, 3])"
   ]
  },
  {
   "cell_type": "code",
   "execution_count": 16,
   "id": "bcc626eb",
   "metadata": {},
   "outputs": [],
   "source": [
    "b = np.array([(2.5, 1, 4.5), (5, 6, 7)])"
   ]
  },
  {
   "cell_type": "code",
   "execution_count": 17,
   "id": "aabc759d",
   "metadata": {},
   "outputs": [
    {
     "data": {
      "text/plain": [
       "(3,)"
      ]
     },
     "execution_count": 17,
     "metadata": {},
     "output_type": "execute_result"
    }
   ],
   "source": [
    "a.shape  # 查看每個維度的元素個數"
   ]
  },
  {
   "cell_type": "code",
   "execution_count": 18,
   "id": "06a4799f",
   "metadata": {},
   "outputs": [
    {
     "data": {
      "text/plain": [
       "(2, 3)"
      ]
     },
     "execution_count": 18,
     "metadata": {},
     "output_type": "execute_result"
    }
   ],
   "source": [
    "b.shape"
   ]
  },
  {
   "cell_type": "code",
   "execution_count": 19,
   "id": "37093092",
   "metadata": {},
   "outputs": [
    {
     "data": {
      "text/plain": [
       "1"
      ]
     },
     "execution_count": 19,
     "metadata": {},
     "output_type": "execute_result"
    }
   ],
   "source": [
    "a.ndim # Number of array dimensions"
   ]
  },
  {
   "cell_type": "code",
   "execution_count": 20,
   "id": "a16b8a6a",
   "metadata": {},
   "outputs": [
    {
     "data": {
      "text/plain": [
       "2"
      ]
     },
     "execution_count": 20,
     "metadata": {},
     "output_type": "execute_result"
    }
   ],
   "source": [
    "b.ndim"
   ]
  },
  {
   "cell_type": "code",
   "execution_count": 21,
   "id": "2e22528e",
   "metadata": {},
   "outputs": [
    {
     "data": {
      "text/plain": [
       "3"
      ]
     },
     "execution_count": 21,
     "metadata": {},
     "output_type": "execute_result"
    }
   ],
   "source": [
    "a.size # Number of array elements"
   ]
  },
  {
   "cell_type": "code",
   "execution_count": 22,
   "id": "f8a7f8fa",
   "metadata": {},
   "outputs": [
    {
     "data": {
      "text/plain": [
       "6"
      ]
     },
     "execution_count": 22,
     "metadata": {},
     "output_type": "execute_result"
    }
   ],
   "source": [
    "b.size "
   ]
  },
  {
   "cell_type": "code",
   "execution_count": 23,
   "id": "2dc5f18d",
   "metadata": {},
   "outputs": [
    {
     "data": {
      "text/plain": [
       "dtype('int64')"
      ]
     },
     "execution_count": 23,
     "metadata": {},
     "output_type": "execute_result"
    }
   ],
   "source": [
    "a.dtype "
   ]
  },
  {
   "cell_type": "code",
   "execution_count": 24,
   "id": "39c550df",
   "metadata": {},
   "outputs": [
    {
     "data": {
      "text/plain": [
       "array([1., 2., 3.])"
      ]
     },
     "execution_count": 24,
     "metadata": {},
     "output_type": "execute_result"
    }
   ],
   "source": [
    "a.astype(float)"
   ]
  },
  {
   "cell_type": "markdown",
   "id": "692a6819",
   "metadata": {},
   "source": [
    "## 運算"
   ]
  },
  {
   "cell_type": "code",
   "execution_count": 25,
   "id": "ed95a43a",
   "metadata": {},
   "outputs": [],
   "source": [
    "a = np.array([1, 2, 3])"
   ]
  },
  {
   "cell_type": "code",
   "execution_count": 26,
   "id": "e2f1668d",
   "metadata": {},
   "outputs": [],
   "source": [
    "b = np.array([2, 4, 6])"
   ]
  },
  {
   "cell_type": "code",
   "execution_count": 27,
   "id": "b8393037",
   "metadata": {},
   "outputs": [
    {
     "data": {
      "text/plain": [
       "array([3, 6, 9])"
      ]
     },
     "execution_count": 27,
     "metadata": {},
     "output_type": "execute_result"
    }
   ],
   "source": [
    "a + b"
   ]
  },
  {
   "cell_type": "code",
   "execution_count": 28,
   "id": "52dbe543",
   "metadata": {},
   "outputs": [
    {
     "data": {
      "text/plain": [
       "array([-1, -2, -3])"
      ]
     },
     "execution_count": 28,
     "metadata": {},
     "output_type": "execute_result"
    }
   ],
   "source": [
    "a - b"
   ]
  },
  {
   "cell_type": "code",
   "execution_count": 29,
   "id": "db315ff4",
   "metadata": {},
   "outputs": [
    {
     "data": {
      "text/plain": [
       "array([ 2,  8, 18])"
      ]
     },
     "execution_count": 29,
     "metadata": {},
     "output_type": "execute_result"
    }
   ],
   "source": [
    "a * b"
   ]
  },
  {
   "cell_type": "code",
   "execution_count": 30,
   "id": "e5676ab7",
   "metadata": {},
   "outputs": [
    {
     "data": {
      "text/plain": [
       "array([0.5, 0.5, 0.5])"
      ]
     },
     "execution_count": 30,
     "metadata": {},
     "output_type": "execute_result"
    }
   ],
   "source": [
    "a / b"
   ]
  },
  {
   "cell_type": "code",
   "execution_count": 31,
   "id": "f66f6af5",
   "metadata": {},
   "outputs": [],
   "source": [
    "a = np.array([(1, 2, 3), (4, 5, 6)])"
   ]
  },
  {
   "cell_type": "code",
   "execution_count": 32,
   "id": "79a14018",
   "metadata": {},
   "outputs": [],
   "source": [
    "b = np.array([(1, 3, 3), (4, 7, 6)])"
   ]
  },
  {
   "cell_type": "code",
   "execution_count": 33,
   "id": "e907f6b4",
   "metadata": {
    "scrolled": true
   },
   "outputs": [
    {
     "data": {
      "text/plain": [
       "array([[ True, False,  True],\n",
       "       [ True, False,  True]])"
      ]
     },
     "execution_count": 33,
     "metadata": {},
     "output_type": "execute_result"
    }
   ],
   "source": [
    "a == b "
   ]
  },
  {
   "cell_type": "code",
   "execution_count": 34,
   "id": "f5e4f2bd",
   "metadata": {},
   "outputs": [
    {
     "data": {
      "text/plain": [
       "array([[ True,  True, False],\n",
       "       [False, False, False]])"
      ]
     },
     "execution_count": 34,
     "metadata": {},
     "output_type": "execute_result"
    }
   ],
   "source": [
    "a < 3 "
   ]
  },
  {
   "cell_type": "markdown",
   "id": "6d61c52c",
   "metadata": {},
   "source": [
    "## 聚合函數(Aggregate Functions)"
   ]
  },
  {
   "cell_type": "code",
   "execution_count": 35,
   "id": "d2e34309",
   "metadata": {},
   "outputs": [],
   "source": [
    "a = np.array([2, 5, 7])"
   ]
  },
  {
   "cell_type": "code",
   "execution_count": 36,
   "id": "8a73505a",
   "metadata": {},
   "outputs": [],
   "source": [
    "b = np.array([(0, 1), (2, 3)])"
   ]
  },
  {
   "cell_type": "code",
   "execution_count": 37,
   "id": "8183b1e8",
   "metadata": {},
   "outputs": [
    {
     "data": {
      "text/plain": [
       "14"
      ]
     },
     "execution_count": 37,
     "metadata": {},
     "output_type": "execute_result"
    }
   ],
   "source": [
    "a.sum()"
   ]
  },
  {
   "cell_type": "code",
   "execution_count": 38,
   "id": "09ae3134",
   "metadata": {},
   "outputs": [
    {
     "data": {
      "text/plain": [
       "7"
      ]
     },
     "execution_count": 38,
     "metadata": {},
     "output_type": "execute_result"
    }
   ],
   "source": [
    "a.max() "
   ]
  },
  {
   "cell_type": "code",
   "execution_count": 39,
   "id": "e440dcdd",
   "metadata": {},
   "outputs": [
    {
     "data": {
      "text/plain": [
       "2"
      ]
     },
     "execution_count": 39,
     "metadata": {},
     "output_type": "execute_result"
    }
   ],
   "source": [
    "a.min()"
   ]
  },
  {
   "cell_type": "code",
   "execution_count": 40,
   "id": "21ac418d",
   "metadata": {},
   "outputs": [
    {
     "data": {
      "text/plain": [
       "array([2, 3])"
      ]
     },
     "execution_count": 40,
     "metadata": {},
     "output_type": "execute_result"
    }
   ],
   "source": [
    "b.max(axis=0)"
   ]
  },
  {
   "cell_type": "code",
   "execution_count": 41,
   "id": "bddabc01",
   "metadata": {},
   "outputs": [
    {
     "data": {
      "text/plain": [
       "array([1, 3])"
      ]
     },
     "execution_count": 41,
     "metadata": {},
     "output_type": "execute_result"
    }
   ],
   "source": [
    "b.max(axis=1)"
   ]
  },
  {
   "cell_type": "code",
   "execution_count": 42,
   "id": "d2203870",
   "metadata": {},
   "outputs": [
    {
     "data": {
      "text/plain": [
       "5.0"
      ]
     },
     "execution_count": 42,
     "metadata": {},
     "output_type": "execute_result"
    }
   ],
   "source": [
    "np.median(a)"
   ]
  },
  {
   "cell_type": "code",
   "execution_count": 43,
   "id": "1637f1e1",
   "metadata": {},
   "outputs": [
    {
     "data": {
      "text/plain": [
       "4.666666666666667"
      ]
     },
     "execution_count": 43,
     "metadata": {},
     "output_type": "execute_result"
    }
   ],
   "source": [
    "np.mean(a)  "
   ]
  },
  {
   "cell_type": "code",
   "execution_count": 44,
   "id": "62ee830b",
   "metadata": {},
   "outputs": [
    {
     "data": {
      "text/plain": [
       "2.0548046676563256"
      ]
     },
     "execution_count": 44,
     "metadata": {},
     "output_type": "execute_result"
    }
   ],
   "source": [
    "np.std(a) "
   ]
  },
  {
   "cell_type": "markdown",
   "id": "91bfea2e",
   "metadata": {},
   "source": [
    "## Sorting Arrays"
   ]
  },
  {
   "cell_type": "code",
   "execution_count": 45,
   "id": "f437eb1c",
   "metadata": {},
   "outputs": [],
   "source": [
    "a = np.array([5, 13, -5, -2, 3, 4, 7])"
   ]
  },
  {
   "cell_type": "code",
   "execution_count": 46,
   "id": "f7a49ad9",
   "metadata": {},
   "outputs": [],
   "source": [
    "a.sort()"
   ]
  },
  {
   "cell_type": "code",
   "execution_count": 47,
   "id": "382a5a41",
   "metadata": {},
   "outputs": [
    {
     "data": {
      "text/plain": [
       "array([-5, -2,  3,  4,  5,  7, 13])"
      ]
     },
     "execution_count": 47,
     "metadata": {},
     "output_type": "execute_result"
    }
   ],
   "source": [
    "a"
   ]
  },
  {
   "cell_type": "markdown",
   "id": "9f4a2468",
   "metadata": {},
   "source": [
    "## Subsetting, Slicing, Indexing"
   ]
  },
  {
   "attachments": {
    "Screenshot%202022-12-18%20at%203.50.32%20PM.png": {
     "image/png": "[encoded data removed]"
    }
   },
   "cell_type": "markdown",
   "id": "e378074a",
   "metadata": {},
   "source": [
    "![Screenshot%202022-12-18%20at%203.50.32%20PM.png](attachment:Screenshot%202022-12-18%20at%203.50.32%20PM.png)"
   ]
  },
  {
   "cell_type": "code",
   "execution_count": 48,
   "id": "325b131a",
   "metadata": {},
   "outputs": [],
   "source": [
    "a = np.array([1, 2, 3, 4])"
   ]
  },
  {
   "cell_type": "code",
   "execution_count": 49,
   "id": "4711c9d4",
   "metadata": {},
   "outputs": [],
   "source": [
    "b = np.array([(8, 7, 6, 5), (1, 2, 3, 4)])"
   ]
  },
  {
   "cell_type": "code",
   "execution_count": 50,
   "id": "664a08b0",
   "metadata": {},
   "outputs": [
    {
     "data": {
      "text/plain": [
       "3"
      ]
     },
     "execution_count": 50,
     "metadata": {},
     "output_type": "execute_result"
    }
   ],
   "source": [
    "a[2]"
   ]
  },
  {
   "cell_type": "code",
   "execution_count": 51,
   "id": "e00703c9",
   "metadata": {},
   "outputs": [
    {
     "data": {
      "text/plain": [
       "4"
      ]
     },
     "execution_count": 51,
     "metadata": {},
     "output_type": "execute_result"
    }
   ],
   "source": [
    "b[1, 3]"
   ]
  },
  {
   "cell_type": "code",
   "execution_count": 52,
   "id": "0aed0282",
   "metadata": {},
   "outputs": [
    {
     "data": {
      "text/plain": [
       "array([1, 2])"
      ]
     },
     "execution_count": 52,
     "metadata": {},
     "output_type": "execute_result"
    }
   ],
   "source": [
    "a[0 : 2]"
   ]
  },
  {
   "cell_type": "code",
   "execution_count": 53,
   "id": "41432395",
   "metadata": {},
   "outputs": [
    {
     "data": {
      "text/plain": [
       "array([7, 2])"
      ]
     },
     "execution_count": 53,
     "metadata": {},
     "output_type": "execute_result"
    }
   ],
   "source": [
    "b[0 : 2, 1]"
   ]
  },
  {
   "cell_type": "code",
   "execution_count": 54,
   "id": "43299716",
   "metadata": {},
   "outputs": [
    {
     "data": {
      "text/plain": [
       "array([1, 2])"
      ]
     },
     "execution_count": 54,
     "metadata": {},
     "output_type": "execute_result"
    }
   ],
   "source": [
    "b[1, 0 : 2]"
   ]
  },
  {
   "cell_type": "code",
   "execution_count": 55,
   "id": "88d7d88b",
   "metadata": {},
   "outputs": [
    {
     "data": {
      "text/plain": [
       "array([[8, 7, 6, 5]])"
      ]
     },
     "execution_count": 55,
     "metadata": {},
     "output_type": "execute_result"
    }
   ],
   "source": [
    "b[ : 1]"
   ]
  },
  {
   "cell_type": "code",
   "execution_count": 56,
   "id": "99df1dc0",
   "metadata": {},
   "outputs": [
    {
     "data": {
      "text/plain": [
       "array([1, 2, 3])"
      ]
     },
     "execution_count": 56,
     "metadata": {},
     "output_type": "execute_result"
    }
   ],
   "source": [
    "a[a < 4]"
   ]
  },
  {
   "cell_type": "code",
   "execution_count": 57,
   "id": "6c8d68a5",
   "metadata": {},
   "outputs": [
    {
     "data": {
      "text/plain": [
       "array([1, 3, 7, 8])"
      ]
     },
     "execution_count": 57,
     "metadata": {},
     "output_type": "execute_result"
    }
   ],
   "source": [
    "b[[1, 1, 0, 0], [0, 2, 1, 0]]"
   ]
  },
  {
   "cell_type": "markdown",
   "id": "bbb39a73",
   "metadata": {},
   "source": [
    "## Transposing Array"
   ]
  },
  {
   "attachments": {
    "Screenshot%202022-12-18%20at%203.56.47%20PM.png": {
     "image/png": "[encoded data removed]"
    }
   },
   "cell_type": "markdown",
   "id": "8f4705fa",
   "metadata": {},
   "source": [
    "![Screenshot%202022-12-18%20at%203.56.47%20PM.png](attachment:Screenshot%202022-12-18%20at%203.56.47%20PM.png)"
   ]
  },
  {
   "cell_type": "code",
   "execution_count": 58,
   "id": "110f7860",
   "metadata": {},
   "outputs": [],
   "source": [
    "a = np.array([(0, 1, 2, 3), (4, 3, 2, 1)])"
   ]
  },
  {
   "cell_type": "code",
   "execution_count": 59,
   "id": "e754420d",
   "metadata": {},
   "outputs": [
    {
     "data": {
      "text/plain": [
       "array([[0, 1, 2, 3],\n",
       "       [4, 3, 2, 1]])"
      ]
     },
     "execution_count": 59,
     "metadata": {},
     "output_type": "execute_result"
    }
   ],
   "source": [
    "a"
   ]
  },
  {
   "cell_type": "code",
   "execution_count": 60,
   "id": "ccf49b6e",
   "metadata": {},
   "outputs": [],
   "source": [
    "b = np.transpose(a)"
   ]
  },
  {
   "cell_type": "code",
   "execution_count": 61,
   "id": "bdea2b76",
   "metadata": {},
   "outputs": [
    {
     "data": {
      "text/plain": [
       "array([[0, 4],\n",
       "       [1, 3],\n",
       "       [2, 2],\n",
       "       [3, 1]])"
      ]
     },
     "execution_count": 61,
     "metadata": {},
     "output_type": "execute_result"
    }
   ],
   "source": [
    "b"
   ]
  },
  {
   "cell_type": "code",
   "execution_count": 62,
   "id": "61ab7220",
   "metadata": {},
   "outputs": [
    {
     "data": {
      "text/plain": [
       "array([[0, 1, 2, 3],\n",
       "       [4, 3, 2, 1]])"
      ]
     },
     "execution_count": 62,
     "metadata": {},
     "output_type": "execute_result"
    }
   ],
   "source": [
    "b.T"
   ]
  },
  {
   "cell_type": "markdown",
   "id": "ca28f388",
   "metadata": {},
   "source": [
    "## Changing Array Shape"
   ]
  },
  {
   "cell_type": "code",
   "execution_count": 63,
   "id": "9b48698a",
   "metadata": {},
   "outputs": [],
   "source": [
    "a = np.array([(0, 1, 2, 3), (4, 3, 2, 1)])"
   ]
  },
  {
   "cell_type": "code",
   "execution_count": 64,
   "id": "e0397b22",
   "metadata": {},
   "outputs": [
    {
     "data": {
      "text/plain": [
       "array([[0, 1, 2, 3],\n",
       "       [4, 3, 2, 1]])"
      ]
     },
     "execution_count": 64,
     "metadata": {},
     "output_type": "execute_result"
    }
   ],
   "source": [
    "a"
   ]
  },
  {
   "cell_type": "code",
   "execution_count": 65,
   "id": "f94fcdc0",
   "metadata": {},
   "outputs": [
    {
     "data": {
      "text/plain": [
       "(2, 4)"
      ]
     },
     "execution_count": 65,
     "metadata": {},
     "output_type": "execute_result"
    }
   ],
   "source": [
    "a.shape"
   ]
  },
  {
   "cell_type": "code",
   "execution_count": 66,
   "id": "2102570c",
   "metadata": {},
   "outputs": [
    {
     "data": {
      "text/plain": [
       "array([[0, 1],\n",
       "       [2, 3],\n",
       "       [4, 3],\n",
       "       [2, 1]])"
      ]
     },
     "execution_count": 66,
     "metadata": {},
     "output_type": "execute_result"
    }
   ],
   "source": [
    "b = a.reshape(4, 2)\n",
    "b"
   ]
  },
  {
   "cell_type": "code",
   "execution_count": 67,
   "id": "f6bf8772",
   "metadata": {},
   "outputs": [
    {
     "data": {
      "text/plain": [
       "(4, 2)"
      ]
     },
     "execution_count": 67,
     "metadata": {},
     "output_type": "execute_result"
    }
   ],
   "source": [
    "b.shape"
   ]
  },
  {
   "cell_type": "markdown",
   "id": "7ed25855",
   "metadata": {},
   "source": [
    "## Adding/Removing Elements"
   ]
  },
  {
   "cell_type": "code",
   "execution_count": 68,
   "id": "0c61f190",
   "metadata": {},
   "outputs": [],
   "source": [
    "a = np.array([1, 2, 3, 4])"
   ]
  },
  {
   "cell_type": "code",
   "execution_count": 69,
   "id": "9068877d",
   "metadata": {},
   "outputs": [],
   "source": [
    "b = np.array([6, 7, 8, 9])   "
   ]
  },
  {
   "cell_type": "code",
   "execution_count": 70,
   "id": "35596135",
   "metadata": {},
   "outputs": [
    {
     "data": {
      "text/plain": [
       "array([1, 2, 3, 4, 5])"
      ]
     },
     "execution_count": 70,
     "metadata": {},
     "output_type": "execute_result"
    }
   ],
   "source": [
    "np.append(a, 5)"
   ]
  },
  {
   "cell_type": "code",
   "execution_count": 71,
   "id": "295a97bd",
   "metadata": {},
   "outputs": [
    {
     "data": {
      "text/plain": [
       "array([1, 2, 3, 4, 6, 7, 8, 9])"
      ]
     },
     "execution_count": 71,
     "metadata": {},
     "output_type": "execute_result"
    }
   ],
   "source": [
    "np.append(a, b)"
   ]
  },
  {
   "cell_type": "code",
   "execution_count": 72,
   "id": "324a38c9",
   "metadata": {},
   "outputs": [
    {
     "data": {
      "text/plain": [
       "array([6, 7, 9])"
      ]
     },
     "execution_count": 72,
     "metadata": {},
     "output_type": "execute_result"
    }
   ],
   "source": [
    "np.delete(b, [2])"
   ]
  }
 ],
 "metadata": {
  "kernelspec": {
   "display_name": "Python 3 (ipykernel)",
   "language": "python",
   "name": "python3"
  },
  "language_info": {
   "codemirror_mode": {
    "name": "ipython",
    "version": 3
   },
   "file_extension": ".py",
   "mimetype": "text/x-python",
   "name": "python",
   "nbconvert_exporter": "python",
   "pygments_lexer": "ipython3",
   "version": "3.9.13"
  }
 },
 "nbformat": 4,
 "nbformat_minor": 5
}
