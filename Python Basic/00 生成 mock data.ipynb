{
 "cells": [
  {
   "cell_type": "markdown",
   "metadata": {},
   "source": [
    "# 檔案一 customer.csv (基本資料)"
   ]
  },
  {
   "cell_type": "code",
   "execution_count": 1,
   "metadata": {},
   "outputs": [],
   "source": [
    "import pandas as pd\n",
    "import numpy as np\n",
    "import random\n",
    "import string"
   ]
  },
  {
   "cell_type": "code",
   "execution_count": 2,
   "metadata": {},
   "outputs": [],
   "source": [
    "col = ['Date','Binary','Age','UniqueKey','Rank','Tag']\n",
    "df = pd.DataFrame(data=[],columns=col)"
   ]
  },
  {
   "cell_type": "code",
   "execution_count": 3,
   "metadata": {},
   "outputs": [
    {
     "data": {
      "text/html": [
       "<div>\n",
       "<style scoped>\n",
       "    .dataframe tbody tr th:only-of-type {\n",
       "        vertical-align: middle;\n",
       "    }\n",
       "\n",
       "    .dataframe tbody tr th {\n",
       "        vertical-align: top;\n",
       "    }\n",
       "\n",
       "    .dataframe thead th {\n",
       "        text-align: right;\n",
       "    }\n",
       "</style>\n",
       "<table border=\"1\" class=\"dataframe\">\n",
       "  <thead>\n",
       "    <tr style=\"text-align: right;\">\n",
       "      <th></th>\n",
       "      <th>Date</th>\n",
       "      <th>Binary</th>\n",
       "      <th>Age</th>\n",
       "      <th>UniqueKey</th>\n",
       "      <th>Rank</th>\n",
       "      <th>Tag</th>\n",
       "    </tr>\n",
       "  </thead>\n",
       "  <tbody>\n",
       "  </tbody>\n",
       "</table>\n",
       "</div>"
      ],
      "text/plain": [
       "Empty DataFrame\n",
       "Columns: [Date, Binary, Age, UniqueKey, Rank, Tag]\n",
       "Index: []"
      ]
     },
     "execution_count": 3,
     "metadata": {},
     "output_type": "execute_result"
    }
   ],
   "source": [
    "df"
   ]
  },
  {
   "cell_type": "code",
   "execution_count": 4,
   "metadata": {},
   "outputs": [],
   "source": [
    "seq = 'MF'\n",
    "b = [random.choice(seq) for p in range(1, 301)]\n",
    "df['Binary'] = b\n",
    "\n",
    "a = [random.randint(1, 99) for p in range(1,  301)]\n",
    "df['Age'] = a\n",
    "\n",
    "r = [random.randint(1, 5) for p in range(1,  301)]\n",
    "df['Rank'] = r\n",
    "\n",
    "t = [''.join(random.sample(string.ascii_letters, 3)).upper() for p in range(1, 301)]\n",
    "df['Tag'] = t"
   ]
  },
  {
   "cell_type": "code",
   "execution_count": 5,
   "metadata": {},
   "outputs": [],
   "source": [
    "x1 = [''.join(random.sample(string.ascii_letters, 5)).upper() for p in range(1,  301)]\n",
    "x2 = [''.join(random.sample(string.ascii_letters, 5)).lower() for p in range(1,  301)]\n",
    "x3 = [str(random.randint(10, 99)) for p in range(1, 301)]\n",
    "df['UniqueKey1'] = x1\n",
    "df['UniqueKey2'] = x2\n",
    "df['UniqueKey3'] = x3\n",
    "df['UniqueKey'] = df['UniqueKey1'] + df['UniqueKey2'] + df['UniqueKey3']"
   ]
  },
  {
   "cell_type": "code",
   "execution_count": 6,
   "metadata": {},
   "outputs": [],
   "source": [
    "import time\n",
    "import random\n",
    "a1 = (2019,1,1,0,0,0,0,0,0)       #設定開始日期時間\n",
    "a2 = (2021,12,20,23,59,59,0,0,0)  #設定結束日期時間\n",
    "start = time.mktime(a1)  #生成開始時間\n",
    "end = time.mktime(a2)   #生成結束時間\n",
    "#隨機生成10個日期字串\n",
    "list5 = []\n",
    "for p in range(1,  301):\n",
    "    for i in range(1):\n",
    "        t = random.randint(start,end)  #在開始和結束時間戳中隨機取出一個\n",
    "        date_touple = time.localtime(t)     #將時間戳生成時間\n",
    "        date = time.strftime(\"%Y-%m-%d\",date_touple) #將時間元組轉成格式化字串（1976-05-21）\n",
    "        list5.append(date)\n",
    "df['Date'] = list5"
   ]
  },
  {
   "cell_type": "code",
   "execution_count": 7,
   "metadata": {},
   "outputs": [],
   "source": [
    "df = df.drop(['UniqueKey1','UniqueKey2','UniqueKey3'],axis=1)"
   ]
  },
  {
   "cell_type": "code",
   "execution_count": 8,
   "metadata": {},
   "outputs": [
    {
     "data": {
      "text/html": [
       "<div>\n",
       "<style scoped>\n",
       "    .dataframe tbody tr th:only-of-type {\n",
       "        vertical-align: middle;\n",
       "    }\n",
       "\n",
       "    .dataframe tbody tr th {\n",
       "        vertical-align: top;\n",
       "    }\n",
       "\n",
       "    .dataframe thead th {\n",
       "        text-align: right;\n",
       "    }\n",
       "</style>\n",
       "<table border=\"1\" class=\"dataframe\">\n",
       "  <thead>\n",
       "    <tr style=\"text-align: right;\">\n",
       "      <th></th>\n",
       "      <th>Date</th>\n",
       "      <th>Binary</th>\n",
       "      <th>Age</th>\n",
       "      <th>UniqueKey</th>\n",
       "      <th>Rank</th>\n",
       "      <th>Tag</th>\n",
       "    </tr>\n",
       "  </thead>\n",
       "  <tbody>\n",
       "    <tr>\n",
       "      <th>4</th>\n",
       "      <td>2019-01-10</td>\n",
       "      <td>F</td>\n",
       "      <td>25</td>\n",
       "      <td>OWXZTjfeox77</td>\n",
       "      <td>4</td>\n",
       "      <td>APX</td>\n",
       "    </tr>\n",
       "    <tr>\n",
       "      <th>289</th>\n",
       "      <td>2019-01-16</td>\n",
       "      <td>F</td>\n",
       "      <td>55</td>\n",
       "      <td>ISAVZrzilf47</td>\n",
       "      <td>4</td>\n",
       "      <td>TIO</td>\n",
       "    </tr>\n",
       "    <tr>\n",
       "      <th>173</th>\n",
       "      <td>2019-01-16</td>\n",
       "      <td>M</td>\n",
       "      <td>67</td>\n",
       "      <td>JHDPXsthkt59</td>\n",
       "      <td>2</td>\n",
       "      <td>MWP</td>\n",
       "    </tr>\n",
       "    <tr>\n",
       "      <th>265</th>\n",
       "      <td>2019-01-17</td>\n",
       "      <td>M</td>\n",
       "      <td>69</td>\n",
       "      <td>OJAXKyesqo50</td>\n",
       "      <td>5</td>\n",
       "      <td>LNG</td>\n",
       "    </tr>\n",
       "    <tr>\n",
       "      <th>155</th>\n",
       "      <td>2019-01-24</td>\n",
       "      <td>F</td>\n",
       "      <td>8</td>\n",
       "      <td>LJDPIpwbfa44</td>\n",
       "      <td>2</td>\n",
       "      <td>LKE</td>\n",
       "    </tr>\n",
       "  </tbody>\n",
       "</table>\n",
       "</div>"
      ],
      "text/plain": [
       "           Date Binary  Age     UniqueKey  Rank  Tag\n",
       "4    2019-01-10      F   25  OWXZTjfeox77     4  APX\n",
       "289  2019-01-16      F   55  ISAVZrzilf47     4  TIO\n",
       "173  2019-01-16      M   67  JHDPXsthkt59     2  MWP\n",
       "265  2019-01-17      M   69  OJAXKyesqo50     5  LNG\n",
       "155  2019-01-24      F    8  LJDPIpwbfa44     2  LKE"
      ]
     },
     "execution_count": 8,
     "metadata": {},
     "output_type": "execute_result"
    }
   ],
   "source": [
    "df = df.sort_values(by='Date')\n",
    "df.head()"
   ]
  },
  {
   "cell_type": "code",
   "execution_count": 9,
   "metadata": {},
   "outputs": [
    {
     "data": {
      "text/plain": [
       "Date         object\n",
       "Binary       object\n",
       "Age           int64\n",
       "UniqueKey    object\n",
       "Rank          int64\n",
       "Tag          object\n",
       "dtype: object"
      ]
     },
     "execution_count": 9,
     "metadata": {},
     "output_type": "execute_result"
    }
   ],
   "source": [
    "df.dtypes"
   ]
  },
  {
   "cell_type": "code",
   "execution_count": 10,
   "metadata": {},
   "outputs": [
    {
     "data": {
      "text/plain": [
       "(300, 6)"
      ]
     },
     "execution_count": 10,
     "metadata": {},
     "output_type": "execute_result"
    }
   ],
   "source": [
    "df.shape"
   ]
  },
  {
   "cell_type": "code",
   "execution_count": 11,
   "metadata": {},
   "outputs": [
    {
     "data": {
      "text/plain": [
       "Date         0\n",
       "Binary       0\n",
       "Age          0\n",
       "UniqueKey    0\n",
       "Rank         0\n",
       "Tag          0\n",
       "dtype: int64"
      ]
     },
     "execution_count": 11,
     "metadata": {},
     "output_type": "execute_result"
    }
   ],
   "source": [
    "df.isnull().sum()"
   ]
  },
  {
   "cell_type": "code",
   "execution_count": 12,
   "metadata": {},
   "outputs": [
    {
     "data": {
      "text/plain": [
       "0"
      ]
     },
     "execution_count": 12,
     "metadata": {},
     "output_type": "execute_result"
    }
   ],
   "source": [
    "df.duplicated().sum()"
   ]
  },
  {
   "cell_type": "code",
   "execution_count": 13,
   "metadata": {},
   "outputs": [],
   "source": [
    "df.to_csv('customer.csv',index=False)"
   ]
  },
  {
   "cell_type": "markdown",
   "metadata": {},
   "source": [
    "# 檔案二 amountdata.xlsx（金額）"
   ]
  },
  {
   "cell_type": "code",
   "execution_count": 14,
   "metadata": {},
   "outputs": [],
   "source": [
    "col2 = ['UniqueKey','Amount']\n",
    "df2 = pd.DataFrame(data=[],columns=col2)\n",
    "\n",
    "aa = [\"{:,}\".format(random.randint(10000, 1000000)) for p in range(1,  301)]\n",
    "df2['Amount'] = aa\n",
    "df2['UniqueKey'] = df['UniqueKey']\n",
    "\n",
    "df2.to_excel('amountdata.xlsx',index=False)\n"
   ]
  },
  {
   "cell_type": "code",
   "execution_count": 15,
   "metadata": {},
   "outputs": [
    {
     "data": {
      "text/plain": [
       "UniqueKey    0\n",
       "Amount       0\n",
       "dtype: int64"
      ]
     },
     "execution_count": 15,
     "metadata": {},
     "output_type": "execute_result"
    }
   ],
   "source": [
    "df2.isnull().sum()"
   ]
  },
  {
   "cell_type": "code",
   "execution_count": 16,
   "metadata": {},
   "outputs": [
    {
     "data": {
      "text/plain": [
       "0"
      ]
     },
     "execution_count": 16,
     "metadata": {},
     "output_type": "execute_result"
    }
   ],
   "source": [
    "df2.duplicated().sum()"
   ]
  },
  {
   "cell_type": "code",
   "execution_count": 17,
   "metadata": {},
   "outputs": [
    {
     "data": {
      "text/html": [
       "<div>\n",
       "<style scoped>\n",
       "    .dataframe tbody tr th:only-of-type {\n",
       "        vertical-align: middle;\n",
       "    }\n",
       "\n",
       "    .dataframe tbody tr th {\n",
       "        vertical-align: top;\n",
       "    }\n",
       "\n",
       "    .dataframe thead th {\n",
       "        text-align: right;\n",
       "    }\n",
       "</style>\n",
       "<table border=\"1\" class=\"dataframe\">\n",
       "  <thead>\n",
       "    <tr style=\"text-align: right;\">\n",
       "      <th></th>\n",
       "      <th>UniqueKey</th>\n",
       "      <th>Amount</th>\n",
       "    </tr>\n",
       "  </thead>\n",
       "  <tbody>\n",
       "    <tr>\n",
       "      <th>0</th>\n",
       "      <td>YVUNHhavtx39</td>\n",
       "      <td>980,381</td>\n",
       "    </tr>\n",
       "    <tr>\n",
       "      <th>1</th>\n",
       "      <td>MGURHvhuow40</td>\n",
       "      <td>686,925</td>\n",
       "    </tr>\n",
       "    <tr>\n",
       "      <th>2</th>\n",
       "      <td>TACJDwnrjv17</td>\n",
       "      <td>383,088</td>\n",
       "    </tr>\n",
       "    <tr>\n",
       "      <th>3</th>\n",
       "      <td>UECHEmksva43</td>\n",
       "      <td>380,673</td>\n",
       "    </tr>\n",
       "    <tr>\n",
       "      <th>4</th>\n",
       "      <td>OWXZTjfeox77</td>\n",
       "      <td>611,608</td>\n",
       "    </tr>\n",
       "  </tbody>\n",
       "</table>\n",
       "</div>"
      ],
      "text/plain": [
       "      UniqueKey   Amount\n",
       "0  YVUNHhavtx39  980,381\n",
       "1  MGURHvhuow40  686,925\n",
       "2  TACJDwnrjv17  383,088\n",
       "3  UECHEmksva43  380,673\n",
       "4  OWXZTjfeox77  611,608"
      ]
     },
     "execution_count": 17,
     "metadata": {},
     "output_type": "execute_result"
    }
   ],
   "source": [
    "df2.head()"
   ]
  }
 ],
 "metadata": {
  "kernelspec": {
   "display_name": "Python 3 (ipykernel)",
   "language": "python",
   "name": "python3"
  },
  "language_info": {
   "codemirror_mode": {
    "name": "ipython",
    "version": 3
   },
   "file_extension": ".py",
   "mimetype": "text/x-python",
   "name": "python",
   "nbconvert_exporter": "python",
   "pygments_lexer": "ipython3",
   "version": "3.9.13"
  }
 },
 "nbformat": 4,
 "nbformat_minor": 4
}
