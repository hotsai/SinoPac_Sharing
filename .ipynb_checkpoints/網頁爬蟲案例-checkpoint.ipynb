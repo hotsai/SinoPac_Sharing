{
 "cells": [
  {
   "cell_type": "markdown",
   "metadata": {
    "id": "L-gWPusdAvwq"
   },
   "source": [
    "# 網頁爬蟲案例\n",
    "\n"
   ]
  },
  {
   "cell_type": "code",
   "execution_count": 3,
   "metadata": {
    "colab": {
     "base_uri": "https://localhost:8080/",
     "height": 174
    },
    "id": "wklBj70AAsXb",
    "outputId": "360863ce-84e2-4557-b732-f30f2a424625"
   },
   "outputs": [
    {
     "data": {
      "text/plain": [
       "'<!DOCTYPE html>\\n<html>\\n  <head>\\n    <meta\\n      name=\"viewport\"\\n      content=\"width=device-width, initial-scale=1, minimum-scale=1, viewport-fit=cover\" />\\n    <meta charset=\"utf-8\" />\\n    <title>Dcard 需要確認您的連線是安全的</title>\\n    <style>*{box-sizing:border-box}a,body,div,h1,h2,html,p,pre,span{color:#000;margin:0;padding:0}body{background-color:#00324e;font-family:Roboto,Helvetica Neue,Helvetica,Arial,PingFang TC,黑體-繁,Heiti TC,蘋果儷中黑,Apple LiGothic Medium,微軟正黑體,Microsoft JhengHei,sans-serif}@media (max-width:798px){body{background-color:#fff}}.dcard_nav{align-items:center;background-color:#006aa6;display:flex;height:48px}.dcard_logo{height:28px;margin-left:124px;width:74px}@media (max-width:798px){.dcard_logo{margin-left:16px}}h1{font-size:28px;line-height:40px;margin:10px 0}h1,h2{font-weight:500}h2{font-size:24px;line-height:33px;margin:8px 0}p,pre{color:rgba(0,0,0,.75);font-size:14px;font-weight:400;line-height:20px}pre{margin:8px 0;white-space:pre-wrap;white-space:break-spaces;word-break:break-word}main{background-color:#fff;border-radius:4px;display:block;margin:24px 124px;padding:24px}@media (max-width:798px){main{margin:0;padding:0 16px}h1{font-size:24px;line-height:42px}h2{font-size:20px;line-height:33px}}a{background-color:transparent;color:#3397cf;text-decoration:none}:focus{outline:0}.dcard_captcha{align-items:center;display:flex;min-height:140px}@media (max-width:798px){.dcard_captcha{min-height:120px}}.dcard_ray_id_container{background-color:#eee;border-radius:5px;color:#000;display:inline-block;font-family:monospace;font-size:14px;line-height:20px;padding:8px}</style>\\n  \\n</head>\\n\\n  <body>\\n    <nav class=\"dcard_nav\">\\n      <svg\\n        class=\"dcard_logo\"\\n        xmlns=\"http://www.w3.org/2000/svg\"\\n        xmlns:xlink=\"http://www.w3.org/1999/xlink\"\\n        viewBox=\"0 0 723 272\">\\n        <defs>\\n          <path id=\"a\" d=\"M216 270H0V0h216z\" />\\n          <path id=\"c\" d=\"M108.312 207.975v-207h-108v207z\" />\\n        </defs>\\n        <g fill=\"none\" fill-rule=\"evenodd\">\\n          <path\\n            d=\"M146.313 104.458c-12.424 0-22.5 10.072-22.5 22.491 0 12.42 10.075 22.492 22.5 22.492 12.424 0 22.5-10.072 22.5-22.492 0-12.419-10.076-22.491-22.5-22.491\"\\n            fill=\"#fff\" />\\n          <g transform=\"translate(1 1)\">\\n            <mask id=\"b\" fill=\"#fff\">\\n              <use xlink:href=\"#a\" />\\n            </mask>\\n            <path\\n              d=\"M189 162.025c0 2.805-.145 5.572-.423 8.303-2.943 2.088-6.494 3.371-10.378 3.371-1.461 0-2.861-.227-4.224-.554a49.594 49.594 0 0 1-19.755-11.974l-19.107 19.107c11.484 11.407 26.595 19.11 43.42 21.423-13.91 24.617-40.289 41.3-70.533 41.3H27V133.216c55.35-7.376 103.576-37.152 135.409-79.86 7.025 4.872 12.911 10.497 17.028 16.523A80.394 80.394 0 0 1 189 107.972v54.053zM108 0H0v270h108c59.647 0 108-48.349 108-107.975v-54.053C216 48.342 167.661 0 108 0z\"\\n              fill=\"#FFF\"\\n              mask=\"url(#b)\" />\\n          </g>\\n          <path\\n            d=\"M281.2 180.95c0-11.155 6.857-18.004 26.98-18.004 13.413 0 26.902 0 44.966 9.003v-.004s.143-26.99 0-26.99c-14.745-8.997-35.982-9.01-54.037-9.01-31.476 0-44.89 18.002-44.89 40.5-.022 26.974 0 27.002 0 27.002s-.022-.078 0 27c0 22.5 13.414 40.498 44.89 40.498 18.055 0 39.292-.013 54.037-9.004.143 0 0-26.995 0-26.995v-.005c-18.064 9.004-31.553 9.004-44.967 9.004-20.122 0-26.98-6.843-26.98-18.005V180.95zM461.313 243.947h-36s-15.832.413-15.75-13.5c-.082-13.915 15.998-18.08 51.75-18v31.5zm-18-108c-18.063 0-39.316.014-54.077 9.005-.144 0 0 26.995 0 26.995v.005c18.077-9.006 31.577-9.006 45-9.006 20.137 0 27.077 6.85 27.077 18.004v8.996c-42.98-.058-81 9.001-81 40.5 0 31.5 18 40.501 45 40.501h63v-67.5l-.077-27c0-22.5-13.423-40.5-44.923-40.5zM517.568 158.446v22.5h-.005v90.001h27v-90h-.043v-4.509c0-14.725 44.93-17.992 44.93-17.992s.254-22.499 0-22.499c-58.388 0-71.882 22.5-71.882 22.5\"\\n            fill=\"#FFF\" />\\n          <g transform=\"translate(614 63)\">\\n            <mask id=\"d\" fill=\"#fff\">\\n              <use xlink:href=\"#c\" />\\n            </mask>\\n            <path\\n              d=\"M81.313 180.884h-27s-27 .916-27-26.981c0-27.896-1.328-46.647 10.584-54.924 11.916-8.275 43.416.944 43.416.944v80.96zm0-179.908h-9c8.814 28.555 8.995 74.544 9 76.402-1.63-.527-14.486-4.44-36-4.44-14.978 0-44.857.71-45 44.976 0 0 .018 13.633 0 22.49.03 2.443.053 2.76.072 2.16.048-11.44.048-1.76 0 0-.019 3.916-.041 10.27-.073 20.329.145 49.473 45 44.976 45 44.976h63V.976h-27z\"\\n              fill=\"#FFF\"\\n              mask=\"url(#d)\" />\\n          </g>\\n        </g>\\n      </svg>\\n    </nav>\\n    <main>\\n      <h1>Dcard 需要確認您的連線是安全的</h1>\\n      <h2>請稍候，並依據指示點擊下方驗證：</h2>\\n      <div class=\"dcard_captcha\"><form id=\"challenge-form\" class=\"challenge-form\" action=\"/f/food?__cf_chl_f_tk=C4SFisw4xBSLbnqDxUn8_3.XwG2nbeSj6tOsNONQ15Q-1673797830-0-gaNycGzNB1E\" method=\"POST\" enctype=\"application/x-www-form-urlencoded\">\\n    <div id=\"cf-please-wait\">\\n        <div id=\"spinner\">\\n            <div id=\"cf-bubbles\">\\n                <div class=\"bubbles\"></div>\\n                <div class=\"bubbles\"></div>\\n                <div class=\"bubbles\"></div>\\n            </div>\\n        </div>\\n        <p id=\"cf-spinner-please-wait\">Please stand by, while we are checking your browser...</p>\\n        <p id=\"cf-spinner-redirecting\" style=\"display:none\">Redirecting...</p>\\n    </div>\\n    <input type=\"hidden\" name=\"md\" value=\"KjzqD6GzC2FTlPooN.LHYgBX5a2GD86o9o85_nZ.Ugo-1673797830-0-AW0YhB7b2FQ5fHXVlTNwhcGfz6TyOde4MZGTc1TPIuVK5jCNDXcio6j7uenOgF5T_Jr2INeUFx53X3vEkF8-hiEU2Q0ZnbNXfs2P8tBH09bZK0Pwq6WAiCAeHPXRB_aNbrGoOA_uoJPQePxWQb5NCJA8Fg9X31liX_ycOjhQeh0wiii8odAOEPagArIzCSG7REYtQd8w_yfLn9bNLO6_G1WgN5BBmJDKBXiW-lbOoH05_eLvJ0vlsnI6AjLsXgRKHQnpnl5jybO1kAu3abxo-eO4Hbrg0x5ybbKEm33OIj1WFVAb1eqCPLk7Y8Wow7h-ycl8GPEArUK9tQuR_WS4m9THWJwIQ1LB03Odz-oWCWynkdGT-L5P_NDNp-Ool7YUShYtN_do1fdSVZfCMFg58Exr0jN0SBLqCRrQa834j0V_rTVUXCofT1Z0-KJ81MJtSPCU3K04vP9s3_8P8t9gWToDdeKp2LqgSmktZf2cofs2\" />\\n    <input type=\"hidden\" name=\"r\" value=\"gSJf5ANIjf3jvwyPJU48WjpSP9sp4PS7DP9adzi0vjA-1673797830-0-ATCYrh5dcqxgzrDorhwG+tRDuP0o1eNC09vc7qwUqhI90s+M91NXjWe2KGib/wxXZL+3PTjRvz3xJGzqVWyKEnP9JRndVLl+xI1wX2idtajWiYXNQukC1Ufn1P8biEoKliBg+KKpePUKYB1WbeZTCdu9wm/s7o3MlF5X9TfJhdHKM+8oRH0tnj17V0h7t/urOab6MEZqIGDCiDWsJ88678L4dhIvr9EC1hPXViFG4NGDFbPRJ++czsoSm4dea7yyy/VCojl/vdVgq7z2H38BrvAvzwFDeb++lKPG8Kz24lfdM7MDhntG0kvOTVTAFmEAw2iK16jbVsYRhSk8woumxYRKkPQn6U4xB5ryjvPjqoxJMdW8fL+TnblDZuw5OUkWoqB2BTtwKAamom7X3yjrZ7PJ0+Umt7MC1UsIyYuDLHL8G3Dbqa5EpzYhgmjLkTjP9ZhwQPfkNRL8CUmkRiVWX6wuCI42FYwtNdtsomYFHq6SBNEROf3HtRjTDv0up9Eyk9Z/FpGdEbMv3rB1TQkEL1drc1g7bTNvxS+2L/fpD827f/LXt2GY5aRpsQcrzLSjN+bYfQfL6t8h1pLWSOVkj9kAy+bL8hh/z80fLw6gNsC7j37HXWlYT6grmIX5XkslYcOaWPojHjeF9+c/6tuV2OmKiMMsuL8C2LqlEbQyd+MhOfkgl74+d1nwo0SrLipHutOcxkr/vahhWpj1PdsLCQzhS/ePHeHEHhXlvWQJcm6gtQVvCmAuTUZbKIHUmtcgyEjE9xNuMnE9+4CNsYQzGQYLBrfQ4Ox81Zj85tVNxpl6H7oK5gEWXFeVij1aemCJGV4U7WCVWwpmPLkBClo5xgqXgUIpMpP9TjdP50txtW1GpAKVtn6SPzTXEjt6B+aWY36TxXqGekzPzKMR0lyuWqgg9sQbA8n5GUOXU3YUoWwup6TPZ7bTPQ2AN5v/FtBBHaKm+Li/urHF2ux6B6b5/vZajzWr/WG9UVJkYSsjNjzKmRCH/eZ3W0rp7MIfayvuMzoozJt7ZV+aDCXiSaaWOA3TPDkNH/jIsAe3USwzFxviGjPV0ba6kPqIybImQ+3u6l6l8/58H53inQuQ0fT58ia3zWQWJLzseq7qY3YBEN2SmpLTQAlzfJtfzJWdEQjOMtVkJsNfQy+LWZwjAi66TNTbQmK9/Cnb5Mapz+mhH5G2DRYmn4jurcxxGJruUjqoZId43wh5N8DFkUjz0PPrvZUqRrw7MwfUfe03SYHURge9EoC5AY8fQNoBIK1vTxAxmY+TMhkyk5VtTLDUhi0e/RWEJqBTTs/8SnKpKf8MTgtVbyxLJejoSVQyspn+4qiZK2LIUDmGGopdjq/+VcU2fgCxFRw94dgZJBZvl9IyvdenibHFGz/6qsn8ixajC/gu2fqPjXvcvuifJ0rNBEXYJ01cFov2YSmojTqj+xGlozTGmF+PRwAL8dAP0PbwjzcdRTqtMBjxNDk2kbypG4ctBp3rclR5hH31tbYUEDnju6mZFcXWlHnNV8mZwqlvBNG6mU2jnS+u0BpfTOOVZcg71KpVYdqlBVw10kTwPax1HGUHnYH7IcBHvQOH5eU1WIp4g3hx+HVmTmVlkNGHW/4ZKKdadR8O5nDWVJI841K+lKLuEGsEvDbXPUHMAXC/RmBp5hksw5QxrAJOK9bv31NVFgxVQUJGResV1V0FKH+PPWX+JIHdUCmt3tG/wV2IBCqMrPu9h3Br5w88dXsrlcP/BVHKX4FWHGJKn5FGMBb3npex3q4EaOnh6QYjKfB1O1VrkmHHuT52lsXFW6TjSi2WYZc=\">\\n    <noscript id=\"cf-captcha-bookmark\" class=\"cf-captcha-info\">\\n        <h1 style=\"color:#bd2426;\">Please turn JavaScript on and reload the page.</h1>\\n    </noscript>\\n    <div id=\"no-cookie-warning\" class=\"cookie-warning\" style=\"display:none\">\\n        <p style=\"color:#bd2426;\">Please enable Cookies and reload the page.</p>\\n    </div>\\n    <div id=\"trk_jschal_js\" style=\"display:none;background-image:url(\\'/cdn-cgi/images/trace/captcha/nojs/transparent.gif?ray=789fc4776bc640ff\\')\"></div>\\n</form>\\n<script>\\n    (function(){\\n        window._cf_chl_opt={\\n            cvId: \\'2\\',\\n            cType: \\'interactive\\',\\n            cNounce: \\'56857\\',\\n            cRay: \\'789fc4776bc640ff\\',\\n            cHash: \\'fb2bd7c86b660e4\\',\\n            cUPMDTk: \"\\\\/f\\\\/food?__cf_chl_tk=C4SFisw4xBSLbnqDxUn8_3.XwG2nbeSj6tOsNONQ15Q-1673797830-0-gaNycGzNB1E\",\\n            cFPWv: \\'g\\',\\n            cTTimeMs: \\'1000\\',\\n            cTplV: 1,\\n            cTplB: \\'cf\\',\\n            cRq: {\\n                ru: \\'aHR0cHM6Ly93d3cuZGNhcmQudHcvZi9mb29k\\',\\n                ra: \\'cHl0aG9uLXJlcXVlc3RzLzIuMjguMQ==\\',\\n                rm: \\'R0VU\\',\\n                d: \\'gJI4rHjUk4+M+mb4vUhP0uih0NlLBGJEl1ZdxCAjUKmhi5rIjtP7jz0MPC7F/G92Xcl3vjm+ikrC6f3fwOA986PiwFlZ6CtcnYDhEs9bzzkkbqoUUummeWRT6j2TfLJUOyJKZE4kIBDOy74o1ou+XX0+O1jk87d89n9yzMQ82zNZWvgo21JpJSXHxQAJ6CQifHbVkbddY9ZgwEiwmxWluFGsINwE2sNSfQZaocUMMHOKYG+U3x0aYMT1Wdz0TaQDJ4HKPmtQCbXoHCup7gfx/Mshra850GPV0DrqPyPqXRu2jL2+x6+gQjgkw/FTIbqk8HZ7DsLxyow6to0cEef+ZPfCNnYFFUxtx/rHBPCuL91Rx8qs+EbpKGIQDV9l39zKxHobVe80RMMI9iLbK66+TSfGCULsUjQi39kep0nBCczVEOxHvr1S7umkaNrWUIUCalWWv+g8ApzyiIZpruz3txsnu4gSRQm+vhvUHNVqDPIROR0d46ogmPARL/ilwV+q8b0mputYQj1Er7RHe6I7VTp6yxRLW5QnUnKOvrs5VeVQ4R7GXSp0gmcqfS7u6TcExzZiJRk/peGecjZqvEoysAZNlFupYZVZSeECalsqMe77a/iNq4/xe5kJIjzKe5UVoY53GmqwWBuo10cvb2hBI6/OokLOS+J6VGD6qm2f5PJFK22Oa1s30GQqIwhmN4yZ8tIVH8ojgHL0F38pv5HtLw==\\',\\n                t: \\'MTY3Mzc5NzgzMC4zMTMwMDA=\\',\\n                m: \\'9mXl8Aqc5TfVfL7DaTyXjqxwh3PuK0FGUJ78vxJSNdY=\\',\\n                i1: \\'rQZ0mahcJhmpnT68QLAW5Q==\\',\\n                i2: \\'aKXmhopcDioH97DH05JlbQ==\\',\\n                zh: \\'Ok+lSPYEdALB3ZANdgwyVRP4veQIRuHDtSrk9j6k5PM=\\',\\n                uh: \\'SLdVolODg++SO356HusO5I/hbfOpiiOxQXj62i/MUkA=\\',\\n                hh: \\'zRzOAigP6xcxnKf5snryJLVJgndZSARNtnIbgQqzl/Q=\\',\\n            }\\n        };\\n        var trkjs = document.createElement(\\'img\\');\\n        trkjs.setAttribute(\\'src\\', \\'/cdn-cgi/images/trace/captcha/js/transparent.gif?ray=789fc4776bc640ff\\');\\n        trkjs.setAttribute(\\'style\\', \\'display: none\\');\\n        document.body.appendChild(trkjs);\\n        var cpo = document.createElement(\\'script\\');\\n        cpo.src = \\'/cdn-cgi/challenge-platform/h/g/orchestrate/captcha/v1?ray=789fc4776bc640ff\\';\\n        window._cf_chl_opt.cOgUHash = location.hash === \\'\\' && location.href.indexOf(\\'#\\') !== -1 ? \\'#\\' : location.hash;\\n        window._cf_chl_opt.cOgUQuery = location.search === \\'\\' && location.href.slice(0, -window._cf_chl_opt.cOgUHash.length).indexOf(\\'?\\') !== -1 ? \\'?\\' : location.search;\\n        if (window.history && window.history.replaceState) {\\n            var ogU = location.pathname + window._cf_chl_opt.cOgUQuery + window._cf_chl_opt.cOgUHash;\\n            history.replaceState(null, null, \"\\\\/f\\\\/food?__cf_chl_rt_tk=C4SFisw4xBSLbnqDxUn8_3.XwG2nbeSj6tOsNONQ15Q-1673797830-0-gaNycGzNB1E\" + window._cf_chl_opt.cOgUHash);\\n            cpo.onload = function() {\\n                history.replaceState(null, null, ogU);\\n            };\\n        }\\n        document.getElementsByTagName(\\'head\\')[0].appendChild(cpo);\\n    }());\\n</script>\\n\\n</div>\\n      <hr />\\n      <pre>Dcard 在某些情況下會需要驗證請求是真實的人類，而非機器人。\\n\\n如果您符合以下行為，這可能是正常的現象：\\n1. 您操作的頻率過快\\n2. 您的瀏覽器版本過老舊或安裝的擴充程式異常\\n3. 您使用公共網路或受監控的網路環境\\n4. 您使用 VPN 或 Proxy 服務\\n5. 您使用的網路曾經有異常行為</pre\\n      >\\n      <div class=\"dcard_ray_id_container\">789fc4776bc640ff-2402:7500:5ce:6258:b4f8:cca5:ef83:9507</div>\\n    </main>\\n  </body>\\n</html>\\n'"
      ]
     },
     "execution_count": 3,
     "metadata": {},
     "output_type": "execute_result"
    }
   ],
   "source": [
    "import requests\n",
    "r = requests.get('https://www.dcard.tw/f/food')\n",
    "response = r.text\n",
    "\n",
    "response"
   ]
  },
  {
   "cell_type": "code",
   "execution_count": 5,
   "metadata": {
    "colab": {
     "base_uri": "https://localhost:8080/"
    },
    "id": "B9Iama-9q2li",
    "outputId": "70373813-af84-4798-e308-6361afc80f57"
   },
   "outputs": [
    {
     "ename": "JSONDecodeError",
     "evalue": "Expecting value: line 1 column 1 (char 0)",
     "output_type": "error",
     "traceback": [
      "\u001b[0;31m---------------------------------------------------------------------------\u001b[0m",
      "\u001b[0;31mJSONDecodeError\u001b[0m                           Traceback (most recent call last)",
      "\u001b[0;32m/var/folders/6v/2vxdwsdj6m76js8m4tstj8zc0000gn/T/ipykernel_84503/1208084059.py\u001b[0m in \u001b[0;36m<module>\u001b[0;34m\u001b[0m\n\u001b[1;32m      1\u001b[0m \u001b[0;32mimport\u001b[0m \u001b[0mjson\u001b[0m\u001b[0;34m\u001b[0m\u001b[0;34m\u001b[0m\u001b[0m\n\u001b[0;32m----> 2\u001b[0;31m \u001b[0mdata\u001b[0m \u001b[0;34m=\u001b[0m \u001b[0mjson\u001b[0m\u001b[0;34m.\u001b[0m\u001b[0mloads\u001b[0m\u001b[0;34m(\u001b[0m\u001b[0mresponse\u001b[0m\u001b[0;34m)\u001b[0m\u001b[0;34m\u001b[0m\u001b[0;34m\u001b[0m\u001b[0m\n\u001b[0m\u001b[1;32m      3\u001b[0m \u001b[0;34m\u001b[0m\u001b[0m\n\u001b[1;32m      4\u001b[0m \u001b[0;32mfor\u001b[0m \u001b[0md\u001b[0m \u001b[0;32min\u001b[0m \u001b[0mdata\u001b[0m\u001b[0;34m:\u001b[0m\u001b[0;34m\u001b[0m\u001b[0;34m\u001b[0m\u001b[0m\n\u001b[1;32m      5\u001b[0m     \u001b[0mprint\u001b[0m\u001b[0;34m(\u001b[0m\u001b[0md\u001b[0m\u001b[0;34m[\u001b[0m\u001b[0;34m'title'\u001b[0m\u001b[0;34m]\u001b[0m\u001b[0;34m)\u001b[0m\u001b[0;34m\u001b[0m\u001b[0;34m\u001b[0m\u001b[0m\n",
      "\u001b[0;32m/opt/anaconda3/lib/python3.9/json/__init__.py\u001b[0m in \u001b[0;36mloads\u001b[0;34m(s, cls, object_hook, parse_float, parse_int, parse_constant, object_pairs_hook, **kw)\u001b[0m\n\u001b[1;32m    344\u001b[0m             \u001b[0mparse_int\u001b[0m \u001b[0;32mis\u001b[0m \u001b[0;32mNone\u001b[0m \u001b[0;32mand\u001b[0m \u001b[0mparse_float\u001b[0m \u001b[0;32mis\u001b[0m \u001b[0;32mNone\u001b[0m \u001b[0;32mand\u001b[0m\u001b[0;34m\u001b[0m\u001b[0;34m\u001b[0m\u001b[0m\n\u001b[1;32m    345\u001b[0m             parse_constant is None and object_pairs_hook is None and not kw):\n\u001b[0;32m--> 346\u001b[0;31m         \u001b[0;32mreturn\u001b[0m \u001b[0m_default_decoder\u001b[0m\u001b[0;34m.\u001b[0m\u001b[0mdecode\u001b[0m\u001b[0;34m(\u001b[0m\u001b[0ms\u001b[0m\u001b[0;34m)\u001b[0m\u001b[0;34m\u001b[0m\u001b[0;34m\u001b[0m\u001b[0m\n\u001b[0m\u001b[1;32m    347\u001b[0m     \u001b[0;32mif\u001b[0m \u001b[0mcls\u001b[0m \u001b[0;32mis\u001b[0m \u001b[0;32mNone\u001b[0m\u001b[0;34m:\u001b[0m\u001b[0;34m\u001b[0m\u001b[0;34m\u001b[0m\u001b[0m\n\u001b[1;32m    348\u001b[0m         \u001b[0mcls\u001b[0m \u001b[0;34m=\u001b[0m \u001b[0mJSONDecoder\u001b[0m\u001b[0;34m\u001b[0m\u001b[0;34m\u001b[0m\u001b[0m\n",
      "\u001b[0;32m/opt/anaconda3/lib/python3.9/json/decoder.py\u001b[0m in \u001b[0;36mdecode\u001b[0;34m(self, s, _w)\u001b[0m\n\u001b[1;32m    335\u001b[0m \u001b[0;34m\u001b[0m\u001b[0m\n\u001b[1;32m    336\u001b[0m         \"\"\"\n\u001b[0;32m--> 337\u001b[0;31m         \u001b[0mobj\u001b[0m\u001b[0;34m,\u001b[0m \u001b[0mend\u001b[0m \u001b[0;34m=\u001b[0m \u001b[0mself\u001b[0m\u001b[0;34m.\u001b[0m\u001b[0mraw_decode\u001b[0m\u001b[0;34m(\u001b[0m\u001b[0ms\u001b[0m\u001b[0;34m,\u001b[0m \u001b[0midx\u001b[0m\u001b[0;34m=\u001b[0m\u001b[0m_w\u001b[0m\u001b[0;34m(\u001b[0m\u001b[0ms\u001b[0m\u001b[0;34m,\u001b[0m \u001b[0;36m0\u001b[0m\u001b[0;34m)\u001b[0m\u001b[0;34m.\u001b[0m\u001b[0mend\u001b[0m\u001b[0;34m(\u001b[0m\u001b[0;34m)\u001b[0m\u001b[0;34m)\u001b[0m\u001b[0;34m\u001b[0m\u001b[0;34m\u001b[0m\u001b[0m\n\u001b[0m\u001b[1;32m    338\u001b[0m         \u001b[0mend\u001b[0m \u001b[0;34m=\u001b[0m \u001b[0m_w\u001b[0m\u001b[0;34m(\u001b[0m\u001b[0ms\u001b[0m\u001b[0;34m,\u001b[0m \u001b[0mend\u001b[0m\u001b[0;34m)\u001b[0m\u001b[0;34m.\u001b[0m\u001b[0mend\u001b[0m\u001b[0;34m(\u001b[0m\u001b[0;34m)\u001b[0m\u001b[0;34m\u001b[0m\u001b[0;34m\u001b[0m\u001b[0m\n\u001b[1;32m    339\u001b[0m         \u001b[0;32mif\u001b[0m \u001b[0mend\u001b[0m \u001b[0;34m!=\u001b[0m \u001b[0mlen\u001b[0m\u001b[0;34m(\u001b[0m\u001b[0ms\u001b[0m\u001b[0;34m)\u001b[0m\u001b[0;34m:\u001b[0m\u001b[0;34m\u001b[0m\u001b[0;34m\u001b[0m\u001b[0m\n",
      "\u001b[0;32m/opt/anaconda3/lib/python3.9/json/decoder.py\u001b[0m in \u001b[0;36mraw_decode\u001b[0;34m(self, s, idx)\u001b[0m\n\u001b[1;32m    353\u001b[0m             \u001b[0mobj\u001b[0m\u001b[0;34m,\u001b[0m \u001b[0mend\u001b[0m \u001b[0;34m=\u001b[0m \u001b[0mself\u001b[0m\u001b[0;34m.\u001b[0m\u001b[0mscan_once\u001b[0m\u001b[0;34m(\u001b[0m\u001b[0ms\u001b[0m\u001b[0;34m,\u001b[0m \u001b[0midx\u001b[0m\u001b[0;34m)\u001b[0m\u001b[0;34m\u001b[0m\u001b[0;34m\u001b[0m\u001b[0m\n\u001b[1;32m    354\u001b[0m         \u001b[0;32mexcept\u001b[0m \u001b[0mStopIteration\u001b[0m \u001b[0;32mas\u001b[0m \u001b[0merr\u001b[0m\u001b[0;34m:\u001b[0m\u001b[0;34m\u001b[0m\u001b[0;34m\u001b[0m\u001b[0m\n\u001b[0;32m--> 355\u001b[0;31m             \u001b[0;32mraise\u001b[0m \u001b[0mJSONDecodeError\u001b[0m\u001b[0;34m(\u001b[0m\u001b[0;34m\"Expecting value\"\u001b[0m\u001b[0;34m,\u001b[0m \u001b[0ms\u001b[0m\u001b[0;34m,\u001b[0m \u001b[0merr\u001b[0m\u001b[0;34m.\u001b[0m\u001b[0mvalue\u001b[0m\u001b[0;34m)\u001b[0m \u001b[0;32mfrom\u001b[0m \u001b[0;32mNone\u001b[0m\u001b[0;34m\u001b[0m\u001b[0;34m\u001b[0m\u001b[0m\n\u001b[0m\u001b[1;32m    356\u001b[0m         \u001b[0;32mreturn\u001b[0m \u001b[0mobj\u001b[0m\u001b[0;34m,\u001b[0m \u001b[0mend\u001b[0m\u001b[0;34m\u001b[0m\u001b[0;34m\u001b[0m\u001b[0m\n",
      "\u001b[0;31mJSONDecodeError\u001b[0m: Expecting value: line 1 column 1 (char 0)"
     ]
    }
   ],
   "source": [
    "import json\n",
    "data = json.loads(response)\n",
    "\n",
    "for d in data:\n",
    "    print(d['title']) "
   ]
  },
  {
   "cell_type": "code",
   "execution_count": null,
   "metadata": {
    "colab": {
     "base_uri": "https://localhost:8080/"
    },
    "id": "aMdpXMW6rVFd",
    "outputId": "24a09f87-4bdc-4531-be0c-0d0c87de8c14"
   },
   "outputs": [
    {
     "data": {
      "text/plain": [
       "{'按讚人數': [342,\n",
       "  325,\n",
       "  287,\n",
       "  250,\n",
       "  101,\n",
       "  81,\n",
       "  73,\n",
       "  67,\n",
       "  64,\n",
       "  46,\n",
       "  42,\n",
       "  34,\n",
       "  34,\n",
       "  30,\n",
       "  23,\n",
       "  23,\n",
       "  13,\n",
       "  13,\n",
       "  13,\n",
       "  11,\n",
       "  11,\n",
       "  9,\n",
       "  8,\n",
       "  8,\n",
       "  7,\n",
       "  7,\n",
       "  6,\n",
       "  6,\n",
       "  4,\n",
       "  4],\n",
       " '文章ID': [237566329,\n",
       "  237566067,\n",
       "  237569191,\n",
       "  237572760,\n",
       "  237567156,\n",
       "  237569476,\n",
       "  237565666,\n",
       "  237568769,\n",
       "  237564580,\n",
       "  237571737,\n",
       "  237567606,\n",
       "  237570166,\n",
       "  237568225,\n",
       "  237570554,\n",
       "  237573752,\n",
       "  237568266,\n",
       "  237572310,\n",
       "  237571456,\n",
       "  237570536,\n",
       "  237573060,\n",
       "  237566575,\n",
       "  237572434,\n",
       "  237569176,\n",
       "  237564290,\n",
       "  237572859,\n",
       "  237569119,\n",
       "  237568054,\n",
       "  237566595,\n",
       "  237569071,\n",
       "  237568710],\n",
       " '標題': ['關於貓貓外出',\n",
       "  '純抱睡',\n",
       "  '我養的貓不是貓',\n",
       "  '我的貓怎麼了？？？',\n",
       "  '家有熊出沒！😳',\n",
       "  '會不會掉下去呢？',\n",
       "  '貓咪睡袋',\n",
       "  '台中虐貓男已在家死亡',\n",
       "  '貓咪跟魚之間的決鬥',\n",
       "  '狗狗會有憂鬱症嗎',\n",
       "  '大貓愛偷抓腳',\n",
       "  '#圖 這兩隻都是我的愛❤️',\n",
       "  '苦命小橘找家🏠 #求分享',\n",
       "  '中秋節發現的喵星人❤️',\n",
       "  '薩摩耶阿志跑跑 😆',\n",
       "  '我們常說愛要及時 卻忘記對毛家人也是',\n",
       "  '#問 貓咪品種',\n",
       "  '你們的貓貓討罐罐時會很番嗎？',\n",
       "  '太冷了吧…',\n",
       "  '不會伸爪的貓(含小小妃照)',\n",
       "  '齁唷人家不想回家（扭',\n",
       "  '我與布丁的相遇',\n",
       "  '真的把通通當孩子疼',\n",
       "  '大學助理教授放任自家狗咬傷柴柴態度惡劣',\n",
       "  '為什麼要一直舔液下啦',\n",
       "  '有認真減有差喔～2個月努力體重控制!!!',\n",
       "  '你們家狗狗喜歡誰😂',\n",
       "  '學屁學😂',\n",
       "  '尋貓啟示',\n",
       "  '睡著的樣子也太醜了吧🤣'],\n",
       " '留言人數': [25,\n",
       "  17,\n",
       "  22,\n",
       "  40,\n",
       "  3,\n",
       "  3,\n",
       "  5,\n",
       "  23,\n",
       "  2,\n",
       "  17,\n",
       "  7,\n",
       "  8,\n",
       "  7,\n",
       "  6,\n",
       "  0,\n",
       "  0,\n",
       "  7,\n",
       "  6,\n",
       "  2,\n",
       "  4,\n",
       "  0,\n",
       "  2,\n",
       "  1,\n",
       "  2,\n",
       "  6,\n",
       "  5,\n",
       "  0,\n",
       "  0,\n",
       "  0,\n",
       "  0],\n",
       " '貼文時間': ['2021-11-30T05:56:47.830Z',\n",
       "  '2021-11-30T05:21:15.847Z',\n",
       "  '2021-11-30T12:51:14.664Z',\n",
       "  '2021-12-01T02:19:50.947Z',\n",
       "  '2021-11-30T08:05:34.232Z',\n",
       "  '2021-11-30T13:28:55.421Z',\n",
       "  '2021-11-30T04:19:15.307Z',\n",
       "  '2021-11-30T11:53:53.642Z',\n",
       "  '2021-11-30T00:35:47.327Z',\n",
       "  '2021-11-30T18:14:18.586Z',\n",
       "  '2021-11-30T09:10:10.995Z',\n",
       "  '2021-11-30T14:47:42.643Z',\n",
       "  '2021-11-30T10:37:16.564Z',\n",
       "  '2021-11-30T15:30:04.272Z',\n",
       "  '2021-12-01T05:11:25.788Z',\n",
       "  '2021-11-30T10:41:15.242Z',\n",
       "  '2021-12-01T00:07:42.756Z',\n",
       "  '2021-11-30T17:23:33.779Z',\n",
       "  '2021-11-30T15:27:26.300Z',\n",
       "  '2021-12-01T03:12:00.064Z',\n",
       "  '2021-11-30T06:32:17.775Z',\n",
       "  '2021-12-01T00:51:17.213Z',\n",
       "  '2021-11-30T12:49:27.272Z',\n",
       "  '2021-11-29T20:35:19.716Z',\n",
       "  '2021-12-01T02:35:55.621Z',\n",
       "  '2021-11-30T12:43:32.894Z',\n",
       "  '2021-11-30T10:13:01.208Z',\n",
       "  '2021-11-30T06:36:15.176Z',\n",
       "  '2021-11-30T12:38:29.294Z',\n",
       "  '2021-11-30T11:46:20.874Z']}"
      ]
     },
     "execution_count": 10,
     "metadata": {},
     "output_type": "execute_result"
    }
   ],
   "source": [
    "# 1-1. 取出每一筆資料的「標題」、「貼文時間」、「留言人數」、「按讚人數」\n",
    "arr0 = []\n",
    "arr1 = []\n",
    "arr2 = []\n",
    "arr3 = []\n",
    "arr4 = []\n",
    "\n",
    "for d in data:\n",
    "    arr0.append(d['id'])\n",
    "    arr1.append(d['title'])\n",
    "    arr2.append(d['createdAt'])\n",
    "    arr3.append(d['commentCount'])\n",
    "    arr4.append(d['likeCount'])\n",
    "\n",
    "data_dic = {}\n",
    "data_dic[\"文章ID\"] = arr0[0:]\n",
    "data_dic[\"標題\"] = arr1[0:]\n",
    "data_dic[\"貼文時間\"] = arr2[0:]\n",
    "data_dic[\"留言人數\"] = arr3[0:]\n",
    "data_dic[\"按讚人數\"] = arr4[0:]\n",
    "\n",
    "data_dic"
   ]
  },
  {
   "cell_type": "code",
   "execution_count": null,
   "metadata": {
    "colab": {
     "base_uri": "https://localhost:8080/"
    },
    "id": "PoDtHCimrXbQ",
    "outputId": "9cca5a23-83bf-44b3-aa23-3ed50df5892e"
   },
   "outputs": [
    {
     "name": "stdout",
     "output_type": "stream",
     "text": [
      "最多留言人數的熱門文章標題: 我養的貓不是貓\n",
      "最多留言人數的熱門文章網址: https://www.dcard.tw/_api/posts/237569191\n",
      "最多按讚人數的熱門文章標題: 睡著的樣子也太醜了吧🤣\n",
      "最多按讚人數的熱門文章網址: https://www.dcard.tw/_api/posts/237568710\n"
     ]
    }
   ],
   "source": [
    "# 1-2. 找出「最多留言人數的熱門文章」與「最多按讚人數的熱門文章」的「標題」與「網址」\n",
    "maxcomment = max(data_dic[\"留言人數\"]) #先看人數最多是誰，回傳第幾筆\n",
    "maxcomment_index = data_dic[\"留言人數\"].index(maxcomment) #要把Index取出，不用-1。@@@這邊若-1免扣分@@@\n",
    "maxcomment_title = data_dic[\"標題\"][maxcomment_index]\n",
    "maxcomment_id = data_dic[\"文章ID\"][maxcomment_index]\n",
    "maxcomment_url = 'https://www.dcard.tw/_api/posts/' + str(maxcomment_id)\n",
    "\n",
    "maxlike = max(data_dic[\"按讚人數\"])\n",
    "maxlike_index = data_dic[\"按讚人數\"].index(maxlike) #要把Index取出，不用-1。@@@這邊若-1免扣分@@@\n",
    "maxlike_title = data_dic[\"標題\"][maxlike_index]\n",
    "maxlike_id = data_dic[\"文章ID\"][maxlike_index]\n",
    "maxlike_url = ' https://www.dcard.tw/_api/posts/' + str(maxlike_id)\n",
    "\n",
    "print(\"最多留言人數的熱門文章標題: \" + maxcomment_title)\n",
    "print(\"最多留言人數的熱門文章網址: \" + maxcomment_url)\n",
    "print(\"最多按讚人數的熱門文章標題: \" + maxlike_title)\n",
    "print(\"最多按讚人數的熱門文章網址: \" + maxlike_url)"
   ]
  },
  {
   "cell_type": "markdown",
   "metadata": {
    "id": "I--Llquu_d03"
   },
   "source": [
    "# 作業二\n",
    "2. 根據1-2的結果，擷取「最多留言人數的熱門文章」的第一筆留言與最後一筆留言的「內容」與「時間」\n",
    "\n",
    "\n",
    "      • 個別文章: https://www.dcard.tw/_api/posts/[文章編號]\n",
    "        範例:https://www.dcard.tw/_api/posts/224157736\n",
    "      • 個別文章留言: https://www.dcard.tw/_api/posts/[文章編號]/comments\n",
    "        範例:https://www.dcard.tw/_api/posts/224157736/comments\n",
    "\n",
    "\n",
    "\n"
   ]
  },
  {
   "cell_type": "code",
   "execution_count": null,
   "metadata": {
    "colab": {
     "base_uri": "https://localhost:8080/",
     "height": 174
    },
    "id": "wq30X2H9FMwv",
    "outputId": "7c054db0-ee5d-449a-86e1-3ff781a459ad"
   },
   "outputs": [
    {
     "data": {
      "application/vnd.google.colaboratory.intrinsic+json": {
       "type": "string"
      },
      "text/plain": [
       "'[{\"id\":\"e809d562-3013-419b-9f0f-4b8b1199c8a1\",\"anonymous\":true,\"postId\":237569191,\"createdAt\":\"2021-11-30T23:49:08.386Z\",\"updatedAt\":\"2021-11-30T23:49:08.386Z\",\"floor\":1,\"content\":\"跟我家的貓咪好像\\\\nhttps://i.imgur.com/BFpWspZ.jpg\\\\nhttps://i.imgur.com/sEo2voZ.jpg\\\\nhttps://i.imgur.com/H1gZPSE.jpg\\\\nhttps://i.imgur.com/VFwyoa1.jpg\\\\n\\\\n最後附上可愛的他們\\\\nhttps://i.imgur.com/FhGtuDz.jpg\",\"likeCount\":23,\"withNickname\":false,\"hiddenByAuthor\":false,\"meta\":{},\"gender\":\"M\",\"school\":\"國立臺灣海洋大學\",\"host\":false,\"reportReason\":\"\",\"mediaMeta\":[{\"id\":\"6dfc8786-6b7c-44a8-a12d-623873bffbf1\",\"url\":\"https://i.imgur.com/BFpWspZl.jpg\",\"normalizedUrl\":\"https://i.imgur.com/BFpWspZl.jpg\",\"thumbnail\":\"https://i.imgur.com/BFpWspZl.jpg\",\"type\":\"image/thumbnail\",\"tags\":[],\"createdAt\":\"2021-11-30T23:49:08.386Z\",\"updatedAt\":\"2021-11-30T23:49:08.386Z\",\"width\":2000,\"height\":1500},{\"id\":\"6dfc8786-6b7c-44a8-a12d-623873bffbf1\",\"url\":\"https://i.imgur.com/BFpWspZ.jpg\",\"normalizedUrl\":\"https://imgur.com/BFpWspZ\",\"thumbnail\":\"https://i.imgur.com/BFpWspZl.jpg\",\"type\":\"image/imgur\",\"tags\":[],\"createdAt\":\"2021-11-30T23:49:08.386Z\",\"updatedAt\":\"2021-11-30T23:49:08.386Z\",\"width\":2000,\"height\":1500},{\"id\":\"7dbd23df-09fe-42a2-bf59-211321fe018e\",\"url\":\"https://i.imgur.com/sEo2voZ.jpg\",\"normalizedUrl\":\"https://imgur.com/sEo2voZ\",\"thumbnail\":\"https://i.imgur.com/sEo2voZl.jpg\",\"type\":\"image/imgur\",\"tags\":[],\"createdAt\":\"2021-11-30T23:49:08.386Z\",\"updatedAt\":\"2021-11-30T23:49:08.386Z\",\"width\":2000,\"height\":1500},{\"id\":\"493062d4-4aa2-4488-90f1-8e4ced939072\",\"url\":\"https://i.imgur.com/H1gZPSE.jpg\",\"normalizedUrl\":\"https://imgur.com/H1gZPSE\",\"thumbnail\":\"https://i.imgur.com/H1gZPSEl.jpg\",\"type\":\"image/imgur\",\"tags\":[],\"createdAt\":\"2021-11-30T23:49:08.386Z\",\"updatedAt\":\"2021-11-30T23:49:08.386Z\",\"width\":1500,\"height\":2000},{\"id\":\"8de72094-2dae-4723-9e20-3174663c132f\",\"url\":\"https://i.imgur.com/VFwyoa1.jpg\",\"normalizedUrl\":\"https://imgur.com/VFwyoa1\",\"thumbnail\":\"https://i.imgur.com/VFwyoa1l.jpg\",\"type\":\"image/imgur\",\"tags\":[],\"createdAt\":\"2021-11-30T23:49:08.386Z\",\"updatedAt\":\"2021-11-30T23:49:08.386Z\",\"width\":2000,\"height\":1500},{\"id\":\"d21ede90-90b0-4c14-94d6-b57f4bb2dd4c\",\"url\":\"https://i.imgur.com/FhGtuDz.jpg\",\"normalizedUrl\":\"https://imgur.com/FhGtuDz\",\"thumbnail\":\"https://i.imgur.com/FhGtuDzl.jpg\",\"type\":\"image/imgur\",\"tags\":[],\"createdAt\":\"2021-11-30T23:49:08.386Z\",\"updatedAt\":\"2021-11-30T23:49:08.386Z\",\"width\":1500,\"height\":2000}],\"hidden\":false,\"inReview\":false,\"reportReasonText\":\"\",\"isSuspiciousAccount\":false,\"isModerator\":false,\"doorplate\":\"1\",\"edited\":false,\"postAvatar\":\"\",\"activityAvatar\":\"\",\"verifiedBadge\":false,\"memberType\":\"\"},{\"id\":\"525cda1c-f300-4ca2-b421-2c8b1b1f4697\",\"anonymous\":false,\"postId\":237569191,\"createdAt\":\"2021-12-01T00:50:56.326Z\",\"updatedAt\":\"2021-12-01T01:41:38.621Z\",\"floor\":2,\"content\":\"B1我以為我家的跑錯棚🤣兩隻花色一樣！\\\\nhttps://i.imgur.com/JgIH8Dg.jpg\\\\nhttps://i.imgur.com/SUmzq7X.jpg\\\\nhttps://i.imgur.com/CGpwRVi.jpg\\\\n是說原PO虎斑太可愛了！！！！！\\\\n我家的也會抱東西睡覺哈哈哈🧸\",\"likeCount\":16,\"withNickname\":true,\"hiddenByAuthor\":false,\"meta\":{},\"gender\":\"F\",\"school\":\"妃妃后后爭寵中🐾\",\"department\":\"stella315317\",\"host\":false,\"reportReason\":\"\",\"mediaMeta\":[{\"id\":\"f86ead9d-f762-4ee3-b367-543b0629316b\",\"url\":\"https://i.imgur.com/JgIH8Dgl.jpg\",\"normalizedUrl\":\"https://i.imgur.com/JgIH8Dgl.jpg\",\"thumbnail\":\"https://i.imgur.com/JgIH8Dgl.jpg\",\"type\":\"image/thumbnail\",\"tags\":[\"ANNOTATED\"],\"createdAt\":\"2021-12-01T00:50:56.326Z\",\"updatedAt\":\"2021-12-01T01:41:38.621Z\",\"width\":702,\"height\":395},{\"id\":\"f86ead9d-f762-4ee3-b367-543b0629316b\",\"url\":\"https://i.imgur.com/JgIH8Dg.jpg\",\"normalizedUrl\":\"https://imgur.com/JgIH8Dg\",\"thumbnail\":\"https://i.imgur.com/JgIH8Dgl.jpg\",\"type\":\"image/imgur\",\"tags\":[\"ANNOTATED\"],\"createdAt\":\"2021-12-01T00:50:56.326Z\",\"updatedAt\":\"2021-12-01T01:41:38.621Z\",\"width\":702,\"height\":395},{\"id\":\"19fad9ef-ba30-4246-bf0f-ca52aab2b231\",\"url\":\"https://i.imgur.com/SUmzq7X.jpg\",\"normalizedUrl\":\"https://imgur.com/SUmzq7X\",\"thumbnail\":\"https://i.imgur.com/SUmzq7Xl.jpg\",\"type\":\"image/imgur\",\"tags\":[],\"createdAt\":\"2021-12-01T01:41:38.621Z\",\"updatedAt\":\"2021-12-01T01:41:38.621Z\",\"width\":2000,\"height\":1500},{\"id\":\"cd896000-d886-4f0d-bd75-2fa304fe72c9\",\"url\":\"https://i.imgur.com/CGpwRVi.jpg\",\"normalizedUrl\":\"https://imgur.com/CGpwRVi\",\"thumbnail\":\"https://i.imgur.com/CGpwRVil.jpg\",\"type\":\"image/imgur\",\"tags\":[],\"createdAt\":\"2021-12-01T01:41:38.621Z\",\"updatedAt\":\"2021-12-01T01:41:38.621Z\",\"width\":2000,\"height\":1500}],\"hidden\":false,\"inReview\":false,\"reportReasonText\":\"\",\"isSuspiciousAccount\":false,\"isModerator\":false,\"enablePrivateMessage\":false,\"doorplate\":\"2\",\"edited\":false,\"postAvatar\":\"\",\"activityAvatar\":\"\",\"verifiedBadge\":false,\"memberType\":\"\"},{\"id\":\"abe15c13-954e-49fd-9718-d3d570badb7e\",\"anonymous\":true,\"postId\":237569191,\"createdAt\":\"2021-12-01T00:54:06.982Z\",\"updatedAt\":\"2021-12-01T00:54:06.982Z\",\"floor\":3,\"content\":\"B2 妳們家的好漂亮喔\",\"likeCount\":0,\"withNickname\":false,\"hiddenByAuthor\":false,\"meta\":{},\"gender\":\"M\",\"school\":\"國立臺灣海洋大學\",\"host\":false,\"reportReason\":\"\",\"mediaMeta\":[],\"hidden\":false,\"inReview\":false,\"reportReasonText\":\"\",\"isSuspiciousAccount\":false,\"isModerator\":false,\"doorplate\":\"3\",\"edited\":false,\"postAvatar\":\"\",\"activityAvatar\":\"\",\"verifiedBadge\":false,\"memberType\":\"\"},{\"id\":\"08132224-9b59-421b-a0b2-eeaab03aa76d\",\"anonymous\":true,\"postId\":237569191,\"createdAt\":\"2021-12-01T01:32:51.887Z\",\"updatedAt\":\"2021-12-01T01:32:51.887Z\",\"floor\":4,\"content\":\"B0 請問如果沒有繫項圈的話\\\\n你認得出來誰是誰嗎？\\\\n因為我覺得虎斑長得都一樣耶😂\",\"likeCount\":2,\"withNickname\":false,\"hiddenByAuthor\":false,\"meta\":{},\"gender\":\"F\",\"school\":\"中國文化大學\",\"host\":false,\"reportReason\":\"\",\"mediaMeta\":[],\"hidden\":false,\"inReview\":false,\"reportReasonText\":\"\",\"isSuspiciousAccount\":false,\"isModerator\":false,\"doorplate\":\"4\",\"edited\":false,\"postAvatar\":\"\",\"activityAvatar\":\"\",\"verifiedBadge\":false,\"memberType\":\"\"},{\"id\":\"eada833a-27eb-4f94-93f5-98a70c66838e\",\"anonymous\":true,\"postId\":237569191,\"createdAt\":\"2021-12-01T01:46:00.598Z\",\"updatedAt\":\"2021-12-01T01:46:00.598Z\",\"floor\":5,\"content\":\"為什麼我看到某幾張\\\\n有種像看到阿瑪後宮的嚕嚕🤣\\\\n大叔坐姿真的很可愛🤣🤣\\\\n其他也很可愛啦啦啦啦啦😍😍\",\"likeCount\":0,\"withNickname\":false,\"hiddenByAuthor\":false,\"meta\":{},\"gender\":\"F\",\"school\":\"仁德醫護管理專科學校\",\"host\":false,\"reportReason\":\"\",\"mediaMeta\":[],\"hidden\":false,\"inReview\":false,\"reportReasonText\":\"\",\"isSuspiciousAccount\":false,\"isModerator\":false,\"doorplate\":\"5\",\"edited\":false,\"postAvatar\":\"https://megapx.dcard.tw/v1/images/2229ea5c-1be4-410d-bfd0-69afa8b6bed6/encode/160\",\"activityAvatar\":\"https://megapx.dcard.tw/v1/images/2229ea5c-1be4-410d-bfd0-69afa8b6bed6/encode/160\",\"verifiedBadge\":false,\"memberType\":\"\"},{\"id\":\"bafbe42d-48c5-40a0-b29c-51d5a9b11792\",\"anonymous\":true,\"postId\":237569191,\"createdAt\":\"2021-12-01T01:56:14.352Z\",\"updatedAt\":\"2021-12-01T01:56:14.352Z\",\"floor\":6,\"content\":\"這一篇文太優質了，好多貓圖😍😍😍\",\"likeCount\":0,\"withNickname\":false,\"hiddenByAuthor\":false,\"meta\":{},\"gender\":\"F\",\"school\":\"東海大學\",\"host\":false,\"reportReason\":\"\",\"mediaMeta\":[],\"hidden\":false,\"inReview\":false,\"reportReasonText\":\"\",\"isSuspiciousAccount\":false,\"isModerator\":false,\"doorplate\":\"6\",\"edited\":false,\"postAvatar\":\"\",\"activityAvatar\":\"\",\"verifiedBadge\":false,\"memberType\":\"\"},{\"id\":\"b2297389-774d-48a6-92a5-e9ba141bd65d\",\"anonymous\":true,\"postId\":237569191,\"createdAt\":\"2021-12-01T02:32:36.333Z\",\"updatedAt\":\"2021-12-01T02:32:36.333Z\",\"floor\":7,\"content\":\"第一張圖背景是貓屋嗎?\\\\n好漂亮\\\\n求哪裡買\",\"likeCount\":0,\"withNickname\":false,\"hiddenByAuthor\":false,\"meta\":{},\"gender\":\"F\",\"school\":\"國立暨南國際大學\",\"host\":false,\"reportReason\":\"\",\"mediaMeta\":[],\"hidden\":false,\"inReview\":false,\"reportReasonText\":\"\",\"isSuspiciousAccount\":false,\"isModerator\":false,\"doorplate\":\"7\",\"edited\":false,\"postAvatar\":\"\",\"activityAvatar\":\"\",\"verifiedBadge\":false,\"memberType\":\"\"},{\"id\":\"69cfc672-d32d-48e8-ac1a-b2ec314dadf9\",\"anonymous\":true,\"postId\":237569191,\"createdAt\":\"2021-12-01T03:18:46.746Z\",\"updatedAt\":\"2021-12-01T03:18:46.746Z\",\"floor\":8,\"content\":\"https://i.imgur.com/Nn26YZv.jpg\\\\nhttps://i.imgur.com/otnnJb0.jpg\\\\nhttps://i.imgur.com/n1OEw2p.jpg\\\\n🤣🤣🤣虎斑就會這樣\",\"likeCount\":3,\"withNickname\":false,\"hiddenByAuthor\":false,\"meta\":{},\"gender\":\"F\",\"school\":\"國立虎尾科技大學\",\"host\":false,\"reportReason\":\"\",\"mediaMeta\":[{\"id\":\"2e6626e2-8056-45e5-a066-16aaece6f215\",\"url\":\"https://i.imgur.com/Nn26YZvl.jpg\",\"normalizedUrl\":\"https://i.imgur.com/Nn26YZvl.jpg\",\"thumbnail\":\"https://i.imgur.com/Nn26YZvl.jpg\",\"type\":\"image/thumbnail\",\"tags\":[],\"createdAt\":\"2021-12-01T03:18:46.746Z\",\"updatedAt\":\"2021-12-01T03:18:46.746Z\",\"width\":2000,\"height\":1500},{\"id\":\"2e6626e2-8056-45e5-a066-16aaece6f215\",\"url\":\"https://i.imgur.com/Nn26YZv.jpg\",\"normalizedUrl\":\"https://imgur.com/Nn26YZv\",\"thumbnail\":\"https://i.imgur.com/Nn26YZvl.jpg\",\"type\":\"image/imgur\",\"tags\":[],\"createdAt\":\"2021-12-01T03:18:46.746Z\",\"updatedAt\":\"2021-12-01T03:18:46.746Z\",\"width\":2000,\"height\":1500},{\"id\":\"ea230676-d31b-450a-a50b-7bf0c4cf4042\",\"url\":\"https://i.imgur.com/otnnJb0.jpg\",\"normalizedUrl\":\"https://imgur.com/otnnJb0\",\"thumbnail\":\"https://i.imgur.com/otnnJb0l.jpg\",\"type\":\"image/imgur\",\"tags\":[],\"createdAt\":\"2021-12-01T03:18:46.746Z\",\"updatedAt\":\"2021-12-01T03:18:46.746Z\",\"width\":2000,\"height\":1500},{\"id\":\"f477796a-ddf3-48b0-ac42-831835761e80\",\"url\":\"https://i.imgur.com/n1OEw2p.jpg\",\"normalizedUrl\":\"https://imgur.com/n1OEw2p\",\"thumbnail\":\"https://i.imgur.com/n1OEw2pl.jpg\",\"type\":\"image/imgur\",\"tags\":[],\"createdAt\":\"2021-12-01T03:18:46.746Z\",\"updatedAt\":\"2021-12-01T03:18:46.746Z\",\"width\":1500,\"height\":2000}],\"hidden\":false,\"inReview\":false,\"reportReasonText\":\"\",\"isSuspiciousAccount\":false,\"isModerator\":false,\"doorplate\":\"8\",\"edited\":false,\"postAvatar\":\"\",\"activityAvatar\":\"\",\"verifiedBadge\":false,\"memberType\":\"\"},{\"id\":\"b9df4c55-7d8e-4373-9631-bd51e4a8a445\",\"anonymous\":true,\"postId\":237569191,\"createdAt\":\"2021-12-01T03:39:20.273Z\",\"updatedAt\":\"2021-12-01T03:39:20.273Z\",\"floor\":9,\"content\":\"https://i.imgur.com/E2pjDc6.jpg\\\\n有我家醜嗎🤪直接當暴露狂\",\"likeCount\":3,\"withNickname\":false,\"hiddenByAuthor\":false,\"meta\":{},\"gender\":\"F\",\"school\":\"淡江大學\",\"host\":false,\"reportReason\":\"\",\"mediaMeta\":[{\"id\":\"50938ebb-b5fe-45a7-ad70-44c5e188b227\",\"url\":\"https://i.imgur.com/E2pjDc6l.jpg\",\"normalizedUrl\":\"https://i.imgur.com/E2pjDc6l.jpg\",\"thumbnail\":\"https://i.imgur.com/E2pjDc6l.jpg\",\"type\":\"image/thumbnail\",\"tags\":[\"ANNOTATED\"],\"createdAt\":\"2021-12-01T03:39:20.273Z\",\"updatedAt\":\"2021-12-01T03:39:20.273Z\",\"width\":1500,\"height\":2000},{\"id\":\"50938ebb-b5fe-45a7-ad70-44c5e188b227\",\"url\":\"https://i.imgur.com/E2pjDc6.jpg\",\"normalizedUrl\":\"https://imgur.com/E2pjDc6\",\"thumbnail\":\"https://i.imgur.com/E2pjDc6l.jpg\",\"type\":\"image/imgur\",\"tags\":[\"ANNOTATED\"],\"createdAt\":\"2021-12-01T03:39:20.273Z\",\"updatedAt\":\"2021-12-01T03:39:20.273Z\",\"width\":1500,\"height\":2000}],\"hidden\":false,\"inReview\":false,\"reportReasonText\":\"\",\"isSuspiciousAccount\":false,\"isModerator\":false,\"doorplate\":\"9\",\"edited\":false,\"postAvatar\":\"\",\"activityAvatar\":\"\",\"verifiedBadge\":false,\"memberType\":\"\"},{\"id\":\"64b015ea-81c1-459a-a1f0-cfbe0644e9dc\",\"anonymous\":false,\"postId\":237569191,\"createdAt\":\"2021-12-01T03:52:52.921Z\",\"updatedAt\":\"2021-12-01T03:52:52.921Z\",\"floor\":10,\"content\":\"是CTRL+C CTRL+V嗎\\\\n怎麼長得這麼像!!!\",\"likeCount\":3,\"withNickname\":false,\"hiddenByAuthor\":false,\"meta\":{},\"gender\":\"F\",\"school\":\"國立臺中科技大學\",\"department\":\"財務金融學系\",\"host\":false,\"reportReason\":\"\",\"mediaMeta\":[],\"hidden\":false,\"inReview\":false,\"reportReasonText\":\"\",\"isSuspiciousAccount\":false,\"isModerator\":false,\"doorplate\":\"10\",\"edited\":false,\"postAvatar\":\"\",\"activityAvatar\":\"\",\"verifiedBadge\":false,\"memberType\":\"\"},{\"id\":\"2d8c2a30-25aa-429a-8fdf-b6d9991e19b9\",\"anonymous\":true,\"postId\":237569191,\"createdAt\":\"2021-12-01T04:50:14.279Z\",\"updatedAt\":\"2021-12-01T04:50:14.279Z\",\"floor\":11,\"content\":\"我只想問原PO…你怎麼分出他們誰是誰的？\\\\n我家也有虎斑，我都笑他跑出去會找不回來只能認他的胖肚，媽媽我真的看不出來差在哪邊…\",\"likeCount\":0,\"withNickname\":false,\"hiddenByAuthor\":false,\"meta\":{},\"gender\":\"F\",\"school\":\"亞東科技大學\",\"host\":false,\"reportReason\":\"\",\"mediaMeta\":[],\"hidden\":false,\"inReview\":false,\"reportReasonText\":\"\",\"isSuspiciousAccount\":false,\"isModerator\":false,\"doorplate\":\"11\",\"edited\":false,\"postAvatar\":\"\",\"activityAvatar\":\"\",\"verifiedBadge\":false,\"memberType\":\"\"},{\"id\":\"dbab7649-2c9e-40fc-9f06-fbd82fbc1b11\",\"anonymous\":false,\"postId\":237569191,\"createdAt\":\"2021-12-01T05:03:07.216Z\",\"updatedAt\":\"2021-12-01T05:03:07.216Z\",\"floor\":12,\"content\":\"貓貓時常生動到我會忘記「這傢伙是動物這回事」\\\\n我以前只有在meloop貼文裡面看過這種事\\\\n沒想到是真的\\\\nhttps://i.imgur.com/StwRwbB.jpg\",\"likeCount\":0,\"withNickname\":false,\"hiddenByAuthor\":false,\"meta\":{},\"gender\":\"M\",\"school\":\"中山醫學大學\",\"department\":\"生物醫學科學學系\",\"host\":false,\"reportReason\":\"\",\"mediaMeta\":[{\"id\":\"be5d00e2-7d38-499b-a2e6-cb8c8bc193d1\",\"url\":\"https://i.imgur.com/StwRwbBl.jpg\",\"normalizedUrl\":\"https://i.imgur.com/StwRwbBl.jpg\",\"thumbnail\":\"https://i.imgur.com/StwRwbBl.jpg\",\"type\":\"image/thumbnail\",\"tags\":[],\"createdAt\":\"2021-12-01T05:03:07.216Z\",\"updatedAt\":\"2021-12-01T05:03:07.216Z\",\"width\":550,\"height\":550},{\"id\":\"be5d00e2-7d38-499b-a2e6-cb8c8bc193d1\",\"url\":\"https://i.imgur.com/StwRwbB.jpg\",\"normalizedUrl\":\"https://imgur.com/StwRwbB\",\"thumbnail\":\"https://i.imgur.com/StwRwbBl.jpg\",\"type\":\"image/imgur\",\"tags\":[],\"createdAt\":\"2021-12-01T05:03:07.216Z\",\"updatedAt\":\"2021-12-01T05:03:07.216Z\",\"width\":550,\"height\":550}],\"hidden\":false,\"inReview\":false,\"reportReasonText\":\"\",\"isSuspiciousAccount\":false,\"isModerator\":false,\"doorplate\":\"12\",\"edited\":false,\"postAvatar\":\"\",\"activityAvatar\":\"\",\"verifiedBadge\":false,\"memberType\":\"\"},{\"id\":\"e31072ce-dacb-4928-bd74-5a1804bbd5a6\",\"anonymous\":true,\"postId\":237569191,\"createdAt\":\"2021-12-01T05:43:19.435Z\",\"updatedAt\":\"2021-12-01T05:43:19.435Z\",\"floor\":13,\"content\":\"https://i.imgur.com/lmZGqB5.jpg\\\\n他們都跟我家的貓長得好像😂\",\"likeCount\":0,\"withNickname\":false,\"hiddenByAuthor\":false,\"meta\":{},\"gender\":\"F\",\"school\":\"東吳大學\",\"host\":false,\"reportReason\":\"\",\"mediaMeta\":[{\"id\":\"9ef76351-3993-4f1b-a398-c77ee8300cf2\",\"url\":\"https://i.imgur.com/lmZGqB5l.jpg\",\"normalizedUrl\":\"https://i.imgur.com/lmZGqB5l.jpg\",\"thumbnail\":\"https://i.imgur.com/lmZGqB5l.jpg\",\"type\":\"image/thumbnail\",\"tags\":[\"ANNOTATED\"],\"createdAt\":\"2021-12-01T05:43:19.435Z\",\"updatedAt\":\"2021-12-01T05:43:19.435Z\",\"width\":1125,\"height\":2001,\"croppingWindow\":{\"anchorX\":0,\"anchorY\":225,\"width\":1125,\"height\":675}},{\"id\":\"9ef76351-3993-4f1b-a398-c77ee8300cf2\",\"url\":\"https://i.imgur.com/lmZGqB5.jpg\",\"normalizedUrl\":\"https://imgur.com/lmZGqB5\",\"thumbnail\":\"https://i.imgur.com/lmZGqB5l.jpg\",\"type\":\"image/imgur\",\"tags\":[\"ANNOTATED\"],\"createdAt\":\"2021-12-01T05:43:19.435Z\",\"updatedAt\":\"2021-12-01T05:43:19.435Z\",\"width\":1125,\"height\":2001,\"croppingWindow\":{\"anchorX\":0,\"anchorY\":225,\"width\":1125,\"height\":675}}],\"hidden\":false,\"inReview\":false,\"reportReasonText\":\"\",\"isSuspiciousAccount\":false,\"isModerator\":false,\"doorplate\":\"13\",\"edited\":false,\"postAvatar\":\"\",\"activityAvatar\":\"\",\"verifiedBadge\":false,\"memberType\":\"\"},{\"id\":\"29b032d4-ef7a-41ae-a202-6ee6aa456ee8\",\"anonymous\":true,\"postId\":237569191,\"createdAt\":\"2021-12-01T05:58:57.448Z\",\"updatedAt\":\"2021-12-01T05:58:57.448Z\",\"floor\":14,\"content\":\"https://i.imgur.com/ZhizfVM.jpg\\\\n一樣的虎斑貓貓❤️\",\"likeCount\":0,\"withNickname\":false,\"hiddenByAuthor\":false,\"meta\":{},\"gender\":\"F\",\"school\":\"嘉南藥理大學\",\"host\":false,\"reportReason\":\"\",\"mediaMeta\":[{\"id\":\"9420ae92-f8a5-44a2-a4c2-f6598d88fbd7\",\"url\":\"https://i.imgur.com/ZhizfVMl.jpg\",\"normalizedUrl\":\"https://i.imgur.com/ZhizfVMl.jpg\",\"thumbnail\":\"https://i.imgur.com/ZhizfVMl.jpg\",\"type\":\"image/thumbnail\",\"tags\":[\"ANNOTATED\"],\"createdAt\":\"2021-12-01T05:58:57.448Z\",\"updatedAt\":\"2021-12-01T05:58:57.448Z\",\"width\":1503,\"height\":2000},{\"id\":\"9420ae92-f8a5-44a2-a4c2-f6598d88fbd7\",\"url\":\"https://i.imgur.com/ZhizfVM.jpg\",\"normalizedUrl\":\"https://imgur.com/ZhizfVM\",\"thumbnail\":\"https://i.imgur.com/ZhizfVMl.jpg\",\"type\":\"image/imgur\",\"tags\":[\"ANNOTATED\"],\"createdAt\":\"2021-12-01T05:58:57.448Z\",\"updatedAt\":\"2021-12-01T05:58:57.448Z\",\"width\":1503,\"height\":2000}],\"hidden\":false,\"inReview\":false,\"reportReasonText\":\"\",\"isSuspiciousAccount\":false,\"isModerator\":false,\"doorplate\":\"14\",\"edited\":false,\"postAvatar\":\"\",\"activityAvatar\":\"\",\"verifiedBadge\":false,\"memberType\":\"\"},{\"id\":\"45b4065c-ccb8-4c98-8f1b-2afa352e40ef\",\"anonymous\":false,\"postId\":237569191,\"createdAt\":\"2021-12-01T06:05:53.118Z\",\"updatedAt\":\"2021-12-01T06:05:53.118Z\",\"floor\":15,\"content\":\"B4 可以呀！三隻個性、長相都差蠻多的\",\"likeCount\":0,\"withNickname\":true,\"hiddenByAuthor\":false,\"meta\":{},\"gender\":\"F\",\"school\":\"死忠五迷+Ki-Ling\",\"department\":\"hannah1212\",\"host\":true,\"reportReason\":\"\",\"mediaMeta\":[],\"hidden\":false,\"inReview\":false,\"reportReasonText\":\"\",\"isSuspiciousAccount\":false,\"isModerator\":false,\"doorplate\":\"15\",\"edited\":false,\"postAvatar\":\"\",\"activityAvatar\":\"\",\"verifiedBadge\":false,\"memberType\":\"\"},{\"id\":\"9712a9ac-0c86-4c43-a1e6-b18547b0ae0a\",\"anonymous\":false,\"postId\":237569191,\"createdAt\":\"2021-12-01T06:06:27.837Z\",\"updatedAt\":\"2021-12-01T06:06:27.837Z\",\"floor\":16,\"content\":\"B7 那個是拍寵物寫真的場景喔\",\"likeCount\":1,\"withNickname\":true,\"hiddenByAuthor\":false,\"meta\":{},\"gender\":\"F\",\"school\":\"死忠五迷+Ki-Ling\",\"department\":\"hannah1212\",\"host\":true,\"reportReason\":\"\",\"mediaMeta\":[],\"hidden\":false,\"inReview\":false,\"reportReasonText\":\"\",\"isSuspiciousAccount\":false,\"isModerator\":false,\"doorplate\":\"16\",\"edited\":false,\"postAvatar\":\"\",\"activityAvatar\":\"\",\"verifiedBadge\":false,\"memberType\":\"\"},{\"id\":\"9ae609e0-0e52-46f1-99ed-563a8796c1db\",\"anonymous\":false,\"postId\":237569191,\"createdAt\":\"2021-12-01T06:21:34.871Z\",\"updatedAt\":\"2021-12-01T06:21:58.650Z\",\"floor\":17,\"content\":\"是不是有點過分啊\\\\n在那邊炫耀！！\\\\n明顯就是瞧不起\\\\n我們這種只能養一隻的😭\\\\n好啦 三隻真的好幸福\",\"likeCount\":1,\"withNickname\":true,\"hiddenByAuthor\":false,\"meta\":{},\"gender\":\"F\",\"school\":\"冬瓜\",\"department\":\"potato1443\",\"host\":false,\"reportReason\":\"\",\"mediaMeta\":[],\"hidden\":false,\"inReview\":false,\"reportReasonText\":\"\",\"isSuspiciousAccount\":false,\"isModerator\":false,\"enablePrivateMessage\":false,\"doorplate\":\"17\",\"edited\":false,\"postAvatar\":\"\",\"activityAvatar\":\"\",\"verifiedBadge\":false,\"memberType\":\"\"},{\"id\":\"36e71ecb-839b-434b-af90-c6c5f9759ee0\",\"anonymous\":true,\"postId\":237569191,\"createdAt\":\"2021-12-01T06:30:04.520Z\",\"updatedAt\":\"2021-12-01T06:30:04.520Z\",\"floor\":18,\"content\":\"確定不是同一隻？\",\"likeCount\":0,\"withNickname\":false,\"hiddenByAuthor\":false,\"meta\":{},\"gender\":\"M\",\"school\":\"淡江大學\",\"host\":false,\"reportReason\":\"\",\"mediaMeta\":[],\"hidden\":false,\"inReview\":false,\"reportReasonText\":\"\",\"isSuspiciousAccount\":false,\"isModerator\":false,\"doorplate\":\"18\",\"edited\":false,\"postAvatar\":\"\",\"activityAvatar\":\"\",\"verifiedBadge\":false,\"memberType\":\"\"},{\"id\":\"77e9ac9c-b076-4333-ac92-4c71babeb573\",\"anonymous\":true,\"postId\":237569191,\"createdAt\":\"2021-12-01T06:35:00.274Z\",\"updatedAt\":\"2021-12-01T06:35:00.274Z\",\"floor\":19,\"content\":\"B15 果然是媽媽耶，像我也覺得雙胞胎的爸媽分得出誰是誰超厲害的🤣\",\"likeCount\":0,\"withNickname\":false,\"hiddenByAuthor\":false,\"meta\":{},\"gender\":\"F\",\"school\":\"中國文化大學\",\"host\":false,\"reportReason\":\"\",\"mediaMeta\":[],\"hidden\":false,\"inReview\":false,\"reportReasonText\":\"\",\"isSuspiciousAccount\":false,\"isModerator\":false,\"doorplate\":\"19\",\"edited\":false,\"postAvatar\":\"\",\"activityAvatar\":\"\",\"verifiedBadge\":false,\"memberType\":\"\"},{\"id\":\"63d063b0-5fc7-426b-98f6-cf502618a773\",\"anonymous\":true,\"postId\":237569191,\"createdAt\":\"2021-12-01T06:36:34.491Z\",\"updatedAt\":\"2021-12-01T06:36:34.491Z\",\"floor\":20,\"content\":\"胖胖是人類吧\",\"likeCount\":0,\"withNickname\":false,\"hiddenByAuthor\":false,\"meta\":{},\"gender\":\"M\",\"school\":\"朝陽科技大學\",\"host\":false,\"reportReason\":\"\",\"mediaMeta\":[],\"hidden\":false,\"inReview\":false,\"reportReasonText\":\"\",\"isSuspiciousAccount\":false,\"isModerator\":false,\"doorplate\":\"20\",\"edited\":false,\"postAvatar\":\"\",\"activityAvatar\":\"\",\"verifiedBadge\":false,\"memberType\":\"\"},{\"id\":\"cd33c1b1-b6cb-41a8-935e-4273228dfa13\",\"anonymous\":false,\"postId\":237569191,\"createdAt\":\"2021-12-01T06:37:33.010Z\",\"updatedAt\":\"2021-12-01T06:37:33.010Z\",\"floor\":21,\"content\":\"三隻都很有特色XD，互動好有愛喔~~\",\"likeCount\":0,\"withNickname\":true,\"hiddenByAuthor\":false,\"meta\":{},\"gender\":\"F\",\"school\":\"微笑度過\",\"department\":\"snowlove\",\"host\":false,\"reportReason\":\"\",\"mediaMeta\":[],\"hidden\":false,\"inReview\":false,\"reportReasonText\":\"\",\"isSuspiciousAccount\":false,\"isModerator\":false,\"doorplate\":\"21\",\"edited\":false,\"postAvatar\":\"\",\"activityAvatar\":\"\",\"verifiedBadge\":false,\"memberType\":\"\"},{\"id\":\"f727c1cb-d42e-4b6a-8e67-db79ebf4d69d\",\"anonymous\":true,\"postId\":237569191,\"createdAt\":\"2021-12-01T07:37:25.439Z\",\"updatedAt\":\"2021-12-01T07:37:25.439Z\",\"floor\":22,\"content\":\"請問原po的貓喜歡什麼顏色的麻袋😍\",\"likeCount\":0,\"withNickname\":false,\"hiddenByAuthor\":false,\"meta\":{},\"gender\":\"F\",\"school\":\"宏國德霖科技大學\",\"host\":false,\"reportReason\":\"\",\"mediaMeta\":[],\"hidden\":false,\"inReview\":false,\"reportReasonText\":\"\",\"isSuspiciousAccount\":false,\"isModerator\":false,\"doorplate\":\"22\",\"edited\":false,\"postAvatar\":\"\",\"activityAvatar\":\"\",\"verifiedBadge\":false,\"memberType\":\"\"},{\"id\":\"fb3b063d-d170-4813-9642-3cf9c3b19904\",\"anonymous\":false,\"postId\":237569191,\"createdAt\":\"2021-12-01T07:45:28.189Z\",\"updatedAt\":\"2021-12-01T07:45:28.189Z\",\"floor\":23,\"content\":\"B22 麻袋是什麼啊😅😅\",\"likeCount\":0,\"withNickname\":true,\"hiddenByAuthor\":false,\"meta\":{},\"gender\":\"F\",\"school\":\"死忠五迷+Ki-Ling\",\"department\":\"hannah1212\",\"host\":true,\"reportReason\":\"\",\"mediaMeta\":[],\"hidden\":false,\"inReview\":false,\"reportReasonText\":\"\",\"isSuspiciousAccount\":false,\"isModerator\":false,\"doorplate\":\"23\",\"edited\":false,\"postAvatar\":\"\",\"activityAvatar\":\"\",\"verifiedBadge\":false,\"memberType\":\"\"},{\"id\":\"e22f5705-cce6-40e4-8cb0-60cb566f9480\",\"anonymous\":false,\"postId\":237569191,\"createdAt\":\"2021-12-01T07:45:47.783Z\",\"updatedAt\":\"2021-12-01T07:45:47.783Z\",\"floor\":24,\"content\":\"B18 當然不是🤣🤣\",\"likeCount\":0,\"withNickname\":true,\"hiddenByAuthor\":false,\"meta\":{},\"gender\":\"F\",\"school\":\"死忠五迷+Ki-Ling\",\"department\":\"hannah1212\",\"host\":true,\"reportReason\":\"\",\"mediaMeta\":[],\"hidden\":false,\"inReview\":false,\"reportReasonText\":\"\",\"isSuspiciousAccount\":false,\"isModerator\":false,\"doorplate\":\"24\",\"edited\":false,\"postAvatar\":\"\",\"activityAvatar\":\"\",\"verifiedBadge\":false,\"memberType\":\"\"},{\"id\":\"af997089-a027-425c-bab6-365f098251bf\",\"anonymous\":true,\"postId\":237569191,\"createdAt\":\"2021-12-01T07:53:15.842Z\",\"updatedAt\":\"2021-12-01T07:53:15.842Z\",\"floor\":25,\"content\":\"為什麼你們家的虎斑斑都沒發腮🤣\\\\n送上我家的虎斑小熊🧸🧸🧸\\\\nhttps://i.imgur.com/nn7pJ6E.jpg\\\\n天使喵可愛爆擊👼🏻👼🏻👼🏻\\\\nhttps://i.imgur.com/lV5Kfz5.jpg\\\\n喜歡紙箱的熊\\\\nhttps://i.imgur.com/bxVZG70.jpg\\\\n愛睡覺的熊\\\\nhttps://i.imgur.com/MtTbDLt.jpg\\\\n好乖巧的樣子\",\"likeCount\":0,\"withNickname\":false,\"hiddenByAuthor\":false,\"meta\":{},\"gender\":\"F\",\"school\":\"健行科技大學\",\"host\":false,\"reportReason\":\"\",\"mediaMeta\":[{\"id\":\"55a9c0e1-99d4-4535-9380-213225b43905\",\"url\":\"https://i.imgur.com/nn7pJ6El.jpg\",\"normalizedUrl\":\"https://i.imgur.com/nn7pJ6El.jpg\",\"thumbnail\":\"https://i.imgur.com/nn7pJ6El.jpg\",\"type\":\"image/thumbnail\",\"tags\":[],\"createdAt\":\"2021-12-01T07:53:15.842Z\",\"updatedAt\":\"2021-12-01T07:53:15.842Z\",\"width\":828,\"height\":1472},{\"id\":\"55a9c0e1-99d4-4535-9380-213225b43905\",\"url\":\"https://i.imgur.com/nn7pJ6E.jpg\",\"normalizedUrl\":\"https://imgur.com/nn7pJ6E\",\"thumbnail\":\"https://i.imgur.com/nn7pJ6El.jpg\",\"type\":\"image/imgur\",\"tags\":[],\"createdAt\":\"2021-12-01T07:53:15.842Z\",\"updatedAt\":\"2021-12-01T07:53:15.842Z\",\"width\":828,\"height\":1472},{\"id\":\"c5bee176-db85-4627-a7c7-b9f89a382f98\",\"url\":\"https://i.imgur.com/lV5Kfz5.jpg\",\"normalizedUrl\":\"https://imgur.com/lV5Kfz5\",\"thumbnail\":\"https://i.imgur.com/lV5Kfz5l.jpg\",\"type\":\"image/imgur\",\"tags\":[],\"createdAt\":\"2021-12-01T07:53:15.842Z\",\"updatedAt\":\"2021-12-01T07:53:15.842Z\",\"width\":825,\"height\":755},{\"id\":\"63acc6fc-caf9-4568-b749-36e42da4db8f\",\"url\":\"https://i.imgur.com/bxVZG70.jpg\",\"normalizedUrl\":\"https://imgur.com/bxVZG70\",\"thumbnail\":\"https://i.imgur.com/bxVZG70l.jpg\",\"type\":\"image/imgur\",\"tags\":[],\"createdAt\":\"2021-12-01T07:53:15.842Z\",\"updatedAt\":\"2021-12-01T07:53:15.842Z\",\"width\":828,\"height\":1472},{\"id\":\"46858d0e-c3f6-4859-9f1f-826fe4ece959\",\"url\":\"https://i.imgur.com/MtTbDLt.jpg\",\"normalizedUrl\":\"https://imgur.com/MtTbDLt\",\"thumbnail\":\"https://i.imgur.com/MtTbDLtl.jpg\",\"type\":\"image/imgur\",\"tags\":[],\"createdAt\":\"2021-12-01T07:53:15.842Z\",\"updatedAt\":\"2021-12-01T07:53:15.842Z\",\"width\":1108,\"height\":1478}],\"hidden\":false,\"inReview\":false,\"reportReasonText\":\"\",\"isSuspiciousAccount\":false,\"isModerator\":false,\"doorplate\":\"25\",\"edited\":false,\"postAvatar\":\"\",\"activityAvatar\":\"\",\"verifiedBadge\":false,\"memberType\":\"\"}]'"
      ]
     },
     "execution_count": 13,
     "metadata": {},
     "output_type": "execute_result"
    }
   ],
   "source": [
    "import requests\n",
    "r = requests.get(maxcomment_url + '/comments') #因為要抓取留言的api，所以後面要加'/comments'\n",
    "response_comments = r.text\n",
    "\n",
    "response_comments"
   ]
  },
  {
   "cell_type": "code",
   "execution_count": null,
   "metadata": {
    "colab": {
     "base_uri": "https://localhost:8080/"
    },
    "id": "x_aOkX2nGO4e",
    "outputId": "d6050945-9555-4f55-daeb-40060a855863"
   },
   "outputs": [
    {
     "name": "stdout",
     "output_type": "stream",
     "text": [
      "第一筆留言時間: 2021-11-30T23:49:08.386Z\n",
      "第一筆留言內容: 為什麼你們家的虎斑斑都沒發腮🤣\n",
      "送上我家的虎斑小熊🧸🧸🧸\n",
      "https://i.imgur.com/nn7pJ6E.jpg\n",
      "天使喵可愛爆擊👼🏻👼🏻👼🏻\n",
      "https://i.imgur.com/lV5Kfz5.jpg\n",
      "喜歡紙箱的熊\n",
      "https://i.imgur.com/bxVZG70.jpg\n",
      "愛睡覺的熊\n",
      "https://i.imgur.com/MtTbDLt.jpg\n",
      "好乖巧的樣子\n",
      "最後一筆留言時間: 2021-12-01T07:53:15.842Z\n",
      "最後一筆留言內容: B18 當然不是🤣🤣\n"
     ]
    }
   ],
   "source": [
    "# 2. 根據1-2的結果，擷取「最多留言人數的熱門文章」的第一筆留言與最後一筆留言的「內容」與「時間」\n",
    "import json\n",
    "time_arr = []\n",
    "comment_arr = []\n",
    "data = json.loads(response_comments)\n",
    "\n",
    "for d in data:\n",
    "    time_arr.append(d['createdAt'])\n",
    "    if 'content' in d:\n",
    "        comment_arr.append(d['content'])\n",
    "    else:\n",
    "        comment_arr.append('')\n",
    "\n",
    "data_dic = {}\n",
    "data_dic[\"留言張貼時間\"] = time_arr[0:] \n",
    "data_dic[\"留言內容\"] = comment_arr[0:]\n",
    "\n",
    "min_time = min(data_dic[\"留言張貼時間\"]) #先找最早的時間\n",
    "min_index = data_dic[\"留言張貼時間\"].index(min_time)-1\n",
    "min_content = data_dic[\"留言內容\"][min_index] #先找最早的時間，再去找內容\n",
    "\n",
    "max_time = max(data_dic[\"留言張貼時間\"])\n",
    "max_index = data_dic[\"留言張貼時間\"].index(max_time)-1\n",
    "max_content = data_dic[\"留言內容\"][max_index]\n",
    "\n",
    "print('第一筆留言時間: ' + min_time)\n",
    "print('第一筆留言內容: ' + min_content)\n",
    "print('最後一筆留言時間: ' + max_time)\n",
    "print('最後一筆留言內容: ' + max_content)"
   ]
  }
 ],
 "metadata": {
  "colab": {
   "collapsed_sections": [],
   "name": "02_HTTP and API_HW_ans.ipynb",
   "provenance": []
  },
  "kernelspec": {
   "display_name": "Python 3 (ipykernel)",
   "language": "python",
   "name": "python3"
  },
  "language_info": {
   "codemirror_mode": {
    "name": "ipython",
    "version": 3
   },
   "file_extension": ".py",
   "mimetype": "text/x-python",
   "name": "python",
   "nbconvert_exporter": "python",
   "pygments_lexer": "ipython3",
   "version": "3.9.13"
  }
 },
 "nbformat": 4,
 "nbformat_minor": 1
}
